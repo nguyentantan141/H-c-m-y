{
  "nbformat": 4,
  "nbformat_minor": 0,
  "metadata": {
    "colab": {
      "provenance": [],
      "authorship_tag": "ABX9TyPqbUaPlSbOAkBEE73Osvkt",
      "include_colab_link": true
    },
    "kernelspec": {
      "name": "python3",
      "display_name": "Python 3"
    },
    "language_info": {
      "name": "python"
    }
  },
  "cells": [
    {
      "cell_type": "markdown",
      "metadata": {
        "id": "view-in-github",
        "colab_type": "text"
      },
      "source": [
        "<a href=\"https://colab.research.google.com/github/nguyentantan141/MACHINE-LEARNING/blob/main/XAY_DUNG_%26_DANH_GIA_MO_HINH_PHAN_LOP.ipynb\" target=\"_parent\"><img src=\"https://colab.research.google.com/assets/colab-badge.svg\" alt=\"Open In Colab\"/></a>"
      ]
    },
    {
      "cell_type": "markdown",
      "source": [
        "# MÔ TẢ DỮ LIỆU HUẤN LUYỆN"
      ],
      "metadata": {
        "id": "RraRyWLGdLCM"
      }
    },
    {
      "cell_type": "markdown",
      "source": [
        "**Nguồn dữ liệu**: \n",
        "+ [WINE](https://archive.ics.uci.edu/ml/datasets/Wine) \n",
        "+ [BREAST CANCER](https://archive.ics.uci.edu/ml/datasets/Breast+Cancer+Wisconsin+%28Diagnostic%29)"
      ],
      "metadata": {
        "id": "3mFiombMjCXb"
      }
    },
    {
      "cell_type": "markdown",
      "source": [
        "## Tập dữ liệu WINE\n",
        "\n",
        "Tập dữ liệu có 13 thuộc tính, 178 mẫu  : \n",
        "1.  Alcohol \n",
        "2. Malic acid\n",
        "3. Ash\n",
        "4. Alcalinity of ash  \n",
        "5. Magnesium\n",
        "6.  Total phenols\n",
        "7.  Flavanoids\n",
        "8. Nonflavanoid phenols\n",
        "9. Proanthocyanins\n",
        "10. Color intensity\n",
        "11. Hue\n",
        "12. OD280/OD315 of diluted wines\n",
        "13. Proline      \n",
        "\n",
        "Trong tập dữ liệu, cột giá trị thứ nhất đóng vai trò nhãn lớp (1-3):\n",
        "+ Lớp 1: 59 \n",
        "+ Lớp 2: 71\n",
        "+ Lớp 3: 48\n",
        "\n",
        "=> Tập dữ liệu dùng để phục vụ bài toán phân loại đa nhãn lớp\n",
        "\n",
        "\n"
      ],
      "metadata": {
        "id": "T0a8Xe1bdSUc"
      }
    },
    {
      "cell_type": "markdown",
      "source": [
        "## Tập dữ liệu BREAST CANCER\n",
        "\n",
        "Tập dữ liệu có 11 thuộc tính, 699 mẫu :\n",
        "1. Sample code number           (id number)\n",
        "2. Clump Thickness              (1 - 10)\n",
        "3. Uniformity of Cell Size      (1 - 10)\n",
        "4. Uniformity of Cell Shape     (1 - 10)\n",
        "5. Marginal Adhesion            (1 - 10)\n",
        "6. Single Epithelial Cell Size  (1 - 10)\n",
        "7. Bare Nuclei                  (1 - 10)\n",
        "8. Bland Chromatin              (1 - 10)\n",
        "9. Normal Nucleoli              (1 - 10)\n",
        "10. Mitoses                     (1 - 10)\n",
        "11. Class  (2 cho lành tính, 4 cho ác tính)\n",
        "\n",
        "* Có 16 trường hợp trong Nhóm 1 đến 6 chứa một trường hợp bị thiếu giá trị thuộc tính (nghĩa là không khả dụng), hiện được biểu thị bằng \"?\".\n",
        "* Thuộc tính thứ 11 đóng vai trò là nhãn lớp\n",
        "* Thuộc tính thứ 1 không cần thiết trong huấn luyện mô hình\n",
        "\n",
        "=> Tập dữ liệu dùng để phục vụ bài toán phân lớp nhị phân"
      ],
      "metadata": {
        "id": "ameVtZvjdXC0"
      }
    },
    {
      "cell_type": "markdown",
      "source": [
        "# SỬ DỤNG DỮ LIỆU \n",
        "\n"
      ],
      "metadata": {
        "id": "pcrWcOFCobpK"
      }
    },
    {
      "cell_type": "markdown",
      "source": [
        "## WINE "
      ],
      "metadata": {
        "id": "NzDfOZ_sos7y"
      }
    },
    {
      "cell_type": "code",
      "execution_count": 1,
      "metadata": {
        "id": "zB4lsMW3c4qm",
        "colab": {
          "base_uri": "https://localhost:8080/"
        },
        "outputId": "5fc9f2d0-11a2-4390-e7f1-48d354a2d48f"
      },
      "outputs": [
        {
          "output_type": "stream",
          "name": "stdout",
          "text": [
            "Mounted at /content/drive/\n"
          ]
        }
      ],
      "source": [
        "from google.colab import drive\n",
        "drive.mount (\"/content/drive/\")"
      ]
    },
    {
      "cell_type": "code",
      "source": [
        "import pandas as pd\n",
        "import numpy as np\n",
        "from sklearn.linear_model import LogisticRegression\n",
        "from sklearn.naive_bayes import GaussianNB\n",
        "from sklearn.neighbors import KNeighborsClassifier\n",
        "from sklearn.model_selection import train_test_split\n",
        "from sklearn.preprocessing import MinMaxScaler\n",
        "from sklearn.impute import SimpleImputer\n",
        "from sklearn.metrics import accuracy_score\n",
        "from sklearn.metrics import precision_score\n",
        "from sklearn.metrics import recall_score\n",
        "from sklearn.metrics import f1_score\n",
        "from sklearn.model_selection import cross_val_score\n",
        "from sklearn.model_selection import cross_val_predict\n",
        "\n",
        "\n",
        "\n"
      ],
      "metadata": {
        "id": "5oHnJRO-ROLh"
      },
      "execution_count": 76,
      "outputs": []
    },
    {
      "cell_type": "markdown",
      "source": [
        "### Đọc dữ liệu"
      ],
      "metadata": {
        "id": "TUk4txYMo0oV"
      }
    },
    {
      "cell_type": "code",
      "source": [
        "def readData(pathfolder: str):\n",
        "  data=pd.read_csv(pathfolder,header=None)\n",
        "  data.replace(to_replace=\"?\", value=np.nan,  inplace=True) #Chuyển kí hiệu \"?\" thành giá trị nan\n",
        "  imputer= SimpleImputer(missing_values=np.nan, strategy='mean') #Thay giá trị nan bằng giá trị trung bình\n",
        "  data=imputer.fit_transform(data)\n",
        "  X, y = data[:,1:], data[:,0]\n",
        "  return X, y"
      ],
      "metadata": {
        "id": "WxqH31P0fGIK"
      },
      "execution_count": 81,
      "outputs": []
    },
    {
      "cell_type": "markdown",
      "source": [
        "### Xử lí dữ liệu"
      ],
      "metadata": {
        "id": "tX4oxVcuadOC"
      }
    },
    {
      "cell_type": "code",
      "source": [
        "def scaling_minmax_norm(X):\n",
        "  scaler =MinMaxScaler()\n",
        "  #Phải thực hiện thao tác fit(data) trước khi điều chỉnh dữ liệu\n",
        "  scaler.fit(X)\n",
        "  #Thực hiện điều chỉnh dữ liệu\n",
        "  X = scaler.transform(X)\n",
        "  m=X.shape[0]\n",
        "  X_scl=np.hstack((np.ones((m,1)),X))\n",
        "  return X_scl"
      ],
      "metadata": {
        "id": "ygry8XBQZSJP"
      },
      "execution_count": 4,
      "outputs": []
    },
    {
      "cell_type": "code",
      "source": [
        "def split_data(X_scl,y):\n",
        "  X_train, X_test, y_train, y_test = train_test_split(X_scl, y,test_size=0.2, random_state=15)\n",
        "  return X_train, X_test, y_train, y_test"
      ],
      "metadata": {
        "id": "HTiD79FiTEoV"
      },
      "execution_count": 6,
      "outputs": []
    },
    {
      "cell_type": "markdown",
      "source": [
        "### Huấn luyện mô hình"
      ],
      "metadata": {
        "id": "0Y0jPvUKmunU"
      }
    },
    {
      "cell_type": "code",
      "source": [
        "def train_model(X_train, X_test, y_train, y_test, model):\n",
        "  #Thông báo kết quả 10-fold CV của quá trình huấn luyện mô hình \n",
        "  scores = cross_val_score(model, X_train, y_train, cv=10)\n",
        "  print('Kết quả huấn luyên 10-fold cv')\n",
        "  print(scores)\n",
        "  # Huấn luyện mô hình\n",
        "  y_hat=model.fit(X_train, y_train)\n",
        "  # Kết quả dự đoán\n",
        "  print(\"Kết quả dự đoán y_hat\")\n",
        "  y_hat=model.predict(X_test)\n",
        "  print(y_hat)\n",
        "  # Đánh giá hiệu năng mô hình theo các chỉ số:  (i) accuracy; (ii) precision; (iii) recall; và (iv) f1-measure.\n",
        "  print('Hiệu năng mô hình theo chỉ số accuracy:   ', accuracy_score(y_hat, y_test))\n",
        "  print('Hiệu năng mô hình theo chỉ số precision:  ', precision_score(y_hat, y_test,average='macro'))\n",
        "  print('Hiệu năng mô hình theo chỉ số recall:     ', recall_score(y_hat, y_test,average='macro'))\n",
        "  print('Hiệu năng mô hình theo chỉ số f1-measure: ', f1_score(y_hat, y_test,average='macro'))\n",
        "\n",
        "\n",
        "\n"
      ],
      "metadata": {
        "id": "mqXn2ndlePiq"
      },
      "execution_count": 72,
      "outputs": []
    },
    {
      "cell_type": "code",
      "source": [
        "def main ():\n",
        "  # Đọc dữ liệu\n",
        "  X,y=readData('/content/drive/MyDrive/Data/wine_breast-cancer/wine.data')\n",
        "  # Chuẩn hóa dữ liệu\n",
        "  X_scl=scaling_minmax_norm(X)\n",
        "  X_train, X_test, y_train, y_test=split_data(X_scl,y)\n",
        "  # Tạo mô hình huấn luyện\n",
        "  model_1= LogisticRegression(max_iter=1500, multi_class='auto') \n",
        "  model_2= GaussianNB()\n",
        "  model_3= KNeighborsClassifier()\n",
        "  # Kết quả của từng mô hình:\n",
        "  print(\" Mô hình LogisticRegression\")\n",
        "  train_model(X_train, X_test, y_train, y_test, model_1)\n",
        "  print('------------------------')\n",
        "  print(\" Mô hình GaussianNB\")\n",
        "  train_model(X_train, X_test, y_train, y_test, model_2)\n",
        "  print('------------------------')\n",
        "  print(\" Mô hình K-NN\")\n",
        "  train_model(X_train, X_test, y_train, y_test, model_3)\n",
        "if __name__ == '__main__':\n",
        "  main()"
      ],
      "metadata": {
        "colab": {
          "base_uri": "https://localhost:8080/"
        },
        "id": "2mZP53BB7VnI",
        "outputId": "51683876-f38b-4f6c-9fe1-9f02bf9d1b08"
      },
      "execution_count": 86,
      "outputs": [
        {
          "output_type": "stream",
          "name": "stdout",
          "text": [
            " Mô hình LogisticRegression\n",
            "Kết quả huấn luyên 10-fold cv\n",
            "[1.         1.         1.         1.         0.92857143 1.\n",
            " 1.         0.92857143 1.         1.        ]\n",
            "Kết quả dự đoán y_hat\n",
            "[3. 1. 3. 1. 2. 1. 2. 3. 2. 1. 2. 2. 2. 2. 1. 2. 3. 1. 3. 2. 3. 1. 3. 3.\n",
            " 3. 1. 3. 2. 1. 1. 2. 3. 1. 2. 3. 1.]\n",
            "Hiệu năng mô hình theo chỉ số accuracy:    1.0\n",
            "Hiệu năng mô hình theo chỉ số precision:   1.0\n",
            "Hiệu năng mô hình theo chỉ số recall:      1.0\n",
            "Hiệu năng mô hình theo chỉ số f1-measure:  1.0\n",
            "------------------------\n",
            " Mô hình GaussianNB\n",
            "Kết quả huấn luyên 10-fold cv\n",
            "[1.         1.         0.92857143 1.         1.         1.\n",
            " 1.         0.92857143 1.         1.        ]\n",
            "Kết quả dự đoán y_hat\n",
            "[3. 1. 3. 1. 2. 1. 2. 3. 2. 1. 2. 2. 2. 2. 1. 2. 3. 1. 3. 2. 3. 1. 3. 3.\n",
            " 3. 1. 3. 2. 1. 2. 2. 3. 1. 2. 3. 1.]\n",
            "Hiệu năng mô hình theo chỉ số accuracy:    0.9722222222222222\n",
            "Hiệu năng mô hình theo chỉ số precision:   0.9722222222222222\n",
            "Hiệu năng mô hình theo chỉ số recall:      0.9743589743589745\n",
            "Hiệu năng mô hình theo chỉ số f1-measure:  0.9721739130434783\n",
            "------------------------\n",
            " Mô hình K-NN\n",
            "Kết quả huấn luyên 10-fold cv\n",
            "[0.93333333 0.93333333 1.         1.         0.92857143 1.\n",
            " 1.         0.92857143 1.         0.92857143]\n",
            "Kết quả dự đoán y_hat\n",
            "[3. 1. 3. 1. 2. 1. 2. 3. 2. 1. 2. 2. 2. 2. 1. 2. 3. 1. 3. 2. 3. 1. 3. 3.\n",
            " 3. 1. 3. 2. 1. 1. 2. 3. 1. 2. 3. 1.]\n",
            "Hiệu năng mô hình theo chỉ số accuracy:    1.0\n",
            "Hiệu năng mô hình theo chỉ số precision:   1.0\n",
            "Hiệu năng mô hình theo chỉ số recall:      1.0\n",
            "Hiệu năng mô hình theo chỉ số f1-measure:  1.0\n"
          ]
        }
      ]
    },
    {
      "cell_type": "markdown",
      "source": [
        "## BREAST CANCER"
      ],
      "metadata": {
        "id": "Z_mmNTUY-Tpq"
      }
    },
    {
      "cell_type": "markdown",
      "source": [
        "### Đọc dữ liệu"
      ],
      "metadata": {
        "id": "3-_Wq7nE-fTe"
      }
    },
    {
      "cell_type": "code",
      "source": [
        "def readData_(pathfolder: str):\n",
        "  data=pd.read_csv(pathfolder,header=None)\n",
        "  data.replace(to_replace=\"?\", value=np.nan,  inplace=True) #Chuyển kí hiệu \"?\" thành giá trị nan\n",
        "  imputer= SimpleImputer(missing_values=np.nan, strategy='mean') #Thay giá trị nan bằng giá trị trung bình\n",
        "  data=imputer.fit_transform(data)\n",
        "  X, y = data[:,:-1], data[:,-1]\n",
        "  return X, y"
      ],
      "metadata": {
        "id": "2S9_5w2O-aMF"
      },
      "execution_count": 83,
      "outputs": []
    },
    {
      "cell_type": "code",
      "source": [
        "def main ():\n",
        "  # Đọc dữ liệu\n",
        "  X,y=readData_('/content/drive/MyDrive/Data/wine_breast-cancer/breast-cancer-wisconsin.data')\n",
        "  # Chuẩn hóa dữ liệu\n",
        "  X_scl=scaling_minmax_norm(X)\n",
        "  X_train, X_test, y_train, y_test=split_data(X_scl,y)\n",
        "  # Tạo mô hình huấn luyện\n",
        "  model_1= LogisticRegression(max_iter=1500, multi_class='auto') \n",
        "  model_2= GaussianNB()\n",
        "  model_3= KNeighborsClassifier()\n",
        "  # Kết quả của từng mô hình:\n",
        "  print(\" Mô hình LogisticRegression\")\n",
        "  train_model(X_train, X_test, y_train, y_test, model_1)\n",
        "  print('------------------------')\n",
        "  print(\" Mô hình GaussianNB\")\n",
        "  train_model(X_train, X_test, y_train, y_test, model_2)\n",
        "  print('------------------------')\n",
        "  print(\" Mô hình K-NN\")\n",
        "  train_model(X_train, X_test, y_train, y_test, model_3)\n",
        "if __name__ == '__main__':\n",
        "  main()"
      ],
      "metadata": {
        "colab": {
          "base_uri": "https://localhost:8080/"
        },
        "id": "Le47KRGu-1de",
        "outputId": "b80815e2-bbf2-4a74-b794-82014e330011"
      },
      "execution_count": 85,
      "outputs": [
        {
          "output_type": "stream",
          "name": "stdout",
          "text": [
            " Mô hình LogisticRegression\n",
            "Kết quả huấn luyên 10-fold cv\n",
            "[0.98214286 0.96428571 0.96428571 0.96428571 1.         0.92857143\n",
            " 0.96428571 0.96428571 0.98214286 0.94545455]\n",
            "Kết quả dự đoán y_hat\n",
            "[4. 4. 4. 4. 2. 4. 4. 2. 2. 2. 2. 4. 2. 4. 4. 2. 4. 4. 4. 4. 2. 2. 2. 4.\n",
            " 2. 2. 2. 2. 2. 4. 4. 2. 2. 2. 2. 2. 2. 2. 2. 4. 2. 2. 2. 4. 2. 4. 4. 2.\n",
            " 2. 4. 2. 4. 2. 4. 4. 4. 2. 2. 2. 4. 2. 4. 2. 4. 2. 4. 4. 4. 2. 2. 4. 4.\n",
            " 4. 4. 2. 4. 2. 2. 2. 4. 4. 2. 2. 2. 2. 2. 4. 2. 4. 2. 2. 4. 4. 4. 4. 4.\n",
            " 2. 2. 2. 2. 2. 4. 2. 4. 2. 2. 4. 2. 2. 2. 2. 2. 4. 2. 2. 2. 2. 4. 2. 2.\n",
            " 2. 2. 2. 4. 2. 4. 4. 4. 2. 2. 4. 4. 4. 2. 2. 2. 2. 2. 2. 2.]\n",
            "Hiệu năng mô hình theo chỉ số accuracy:    0.9714285714285714\n",
            "Hiệu năng mô hình theo chỉ số precision:   0.9732620320855615\n",
            "Hiệu năng mô hình theo chỉ số recall:      0.9676601141407736\n",
            "Hiệu năng mô hình theo chỉ số f1-measure:  0.9702380952380951\n",
            "------------------------\n",
            " Mô hình GaussianNB\n",
            "Kết quả huấn luyên 10-fold cv\n",
            "[0.96428571 0.96428571 0.96428571 0.92857143 0.98214286 0.96428571\n",
            " 0.98214286 0.94642857 1.         0.96363636]\n",
            "Kết quả dự đoán y_hat\n",
            "[4. 4. 4. 4. 2. 4. 4. 2. 4. 2. 2. 4. 2. 4. 4. 2. 4. 4. 4. 4. 2. 2. 2. 4.\n",
            " 2. 2. 2. 2. 2. 4. 4. 2. 2. 2. 2. 2. 2. 2. 2. 4. 2. 2. 2. 4. 2. 4. 4. 2.\n",
            " 2. 4. 2. 4. 2. 4. 4. 4. 2. 2. 2. 4. 2. 4. 2. 4. 2. 4. 4. 4. 2. 2. 4. 4.\n",
            " 4. 4. 2. 4. 2. 4. 2. 4. 4. 2. 2. 2. 2. 2. 4. 2. 4. 2. 2. 4. 4. 4. 4. 4.\n",
            " 4. 2. 2. 2. 2. 4. 4. 4. 2. 2. 4. 2. 2. 2. 2. 2. 4. 2. 2. 2. 2. 4. 2. 4.\n",
            " 2. 2. 2. 4. 2. 4. 4. 4. 2. 2. 4. 4. 4. 2. 2. 2. 2. 4. 2. 2.]\n",
            "Hiệu năng mô hình theo chỉ số accuracy:    0.9428571428571428\n",
            "Hiệu năng mô hình theo chỉ số precision:   0.9529411764705882\n",
            "Hiệu năng mô hình theo chỉ số recall:      0.9365079365079365\n",
            "Hiệu năng mô hình theo chỉ số f1-measure:  0.9414103368905629\n",
            "------------------------\n",
            " Mô hình K-NN\n",
            "Kết quả huấn luyên 10-fold cv\n",
            "[0.96428571 0.96428571 0.98214286 0.96428571 0.98214286 0.96428571\n",
            " 0.98214286 0.98214286 0.98214286 0.96363636]\n",
            "Kết quả dự đoán y_hat\n",
            "[4. 4. 4. 4. 2. 4. 4. 2. 4. 2. 2. 4. 2. 4. 4. 2. 4. 4. 4. 4. 2. 2. 2. 4.\n",
            " 2. 2. 2. 2. 2. 4. 4. 2. 2. 2. 2. 2. 2. 2. 2. 4. 2. 2. 2. 4. 2. 4. 4. 2.\n",
            " 2. 4. 2. 4. 2. 4. 4. 4. 2. 2. 2. 4. 2. 4. 2. 4. 2. 4. 4. 4. 2. 2. 4. 4.\n",
            " 4. 4. 2. 4. 2. 2. 2. 4. 4. 2. 2. 2. 2. 2. 4. 2. 4. 2. 2. 4. 4. 4. 4. 4.\n",
            " 2. 2. 2. 2. 2. 4. 2. 4. 2. 2. 4. 2. 2. 2. 2. 2. 4. 2. 2. 2. 2. 4. 2. 2.\n",
            " 2. 2. 2. 4. 2. 4. 4. 4. 2. 2. 4. 4. 4. 2. 2. 2. 2. 2. 2. 2.]\n",
            "Hiệu năng mô hình theo chỉ số accuracy:    0.9642857142857143\n",
            "Hiệu năng mô hình theo chỉ số precision:   0.9673796791443849\n",
            "Hiệu năng mô hình theo chỉ số recall:      0.9594196804037005\n",
            "Hiệu năng mô hình theo chỉ số f1-measure:  0.9629060463144508\n"
          ]
        }
      ]
    }
  ]
}
{
  "nbformat": 4,
  "nbformat_minor": 0,
  "metadata": {
    "colab": {
      "provenance": [],
      "authorship_tag": "ABX9TyN/tsQQukF/aQdKZn68GuMb",
      "include_colab_link": true
    },
    "kernelspec": {
      "name": "python3",
      "display_name": "Python 3"
    },
    "language_info": {
      "name": "python"
    }
  },
  "cells": [
    {
      "cell_type": "markdown",
      "metadata": {
        "id": "view-in-github",
        "colab_type": "text"
      },
      "source": [
        "<a href=\"https://colab.research.google.com/github/nguyentantan141/MACHINE-LEARNING/blob/Machine-learning/k_lan_can_GridSearchCV.ipynb\" target=\"_parent\"><img src=\"https://colab.research.google.com/assets/colab-badge.svg\" alt=\"Open In Colab\"/></a>"
      ]
    },
    {
      "cell_type": "markdown",
      "source": [
        "**MÔ HÌNH PHÂN LỚP k – lân cận (k-nearest neighbors model)**\n",
        "\n",
        "1. Giới thiệu mô hình k-NN\n",
        "\n",
        "**Phát biểu bài toán**: Cho tập dữ liệu $D=\\left\\{(X,y)|X∈R^{m\\times n}, y\\in\\left\\{c_i\\right\\}^{k}_{i=1}\\right\\}$ với X là tập các điểm dữ liệu trong không gian $R^n$ và y là vector chứa các nhãn lớp tương ứng của các điểm dữ liệu $x_i$ ∈ X.  Phép tính khoảng cách giữa các điểm là nền tảng của phương pháp k-NN, ví dụ:\n",
        "\n",
        "$d(A,B)=\\sqrt{∑_{i=1}^n(x_i^{A}-x_i^{B})^2}$\n",
        "\n",
        "\n",
        "Nhãn lớp của điểm cần dự đoán sẽ được suy đoán từ ***k*** điểm dữ liệu gần nhất với nó theo cơ chế bỏ phiếu (nghĩa là trong k điểm lân cận, nhãn lớp nào chiếm đa số sẽ là nhãn lớp của điểm cần dự đoán).\n",
        "\n",
        "**Đặc điểm của mô hình k-NN:**\n",
        "+ Quá trình xây dựng k-NN không trải qua bước huấn luyện (training). Nên đây có\n",
        "thể được xem là một thuật toán lười học – lazy learning;\n",
        "+ Việc chọn k thường là một số lẻ và có chỉ số chính xác (accuracy) cao nhất. Mẹo kỹ thuật thông thường chọn giá trị của k trong khoảng $1\\leq k\\leq \\frac{\\sqrt{m}}{2}$ với m là số điểm dữ liệu trong tập dữ liệu ;\n",
        "+ Mô hình k-NN còn có thể áp dụng cho bài toán hồi quy.\n",
        "\n",
        "* ***Sử dụng GridSearchCV để tìm giá trị k tối ưu cho mô hình***"
      ],
      "metadata": {
        "id": "AcwP4EtBp-bH"
      }
    },
    {
      "cell_type": "code",
      "source": [
        "import os\n",
        "import numpy as np\n",
        "from math import sqrt\n",
        "from sklearn.neighbors import KNeighborsClassifier\n",
        "from sklearn.model_selection import GridSearchCV\n",
        "from sklearn.metrics import accuracy_score"
      ],
      "metadata": {
        "id": "hPLb4m3BTn7m"
      },
      "execution_count": 6,
      "outputs": []
    },
    {
      "cell_type": "code",
      "execution_count": 5,
      "metadata": {
        "id": "PaROXUmyTkCd"
      },
      "outputs": [],
      "source": [
        "def k_NN(X_train,X_test,y_train,y_test):\n",
        "  # Xác định số lượng mẫu dữ liệu và k_max\n",
        "  m = y_train.shape[0]\n",
        "  k_max = int(sqrt(m)/2)\n",
        "  # Tạo lưới tham số cho GridSearchCV \n",
        "  k_values = np.arange(start=1, stop = k_max + 1,dtype=int)\n",
        "  params = {'n_neighbors': k_values}\n",
        "  # Khởi tạo và huấn luyện mô hình với GridSearchCV\n",
        "  kNN = KNeighborsClassifier()\n",
        "  kNN_grid = GridSearchCV(kNN, params, cv=10)\n",
        "  kNN_grid.fit(X_train, y_train)\n",
        "  print('Giá trị k tối ưu là: ',kNN_grid.best_params_)\n",
        "  y_hat = kNN_grid.predict(X_test)\n",
        "  print('Độ chính xác dự đoán là: ',accuracy_score(y_hat, y_test))\n",
        "  return y_hat\n",
        " "
      ]
    }
  ]
}
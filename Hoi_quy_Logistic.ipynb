{
  "nbformat": 4,
  "nbformat_minor": 0,
  "metadata": {
    "colab": {
      "provenance": [],
      "authorship_tag": "ABX9TyMxtGtn4rU/SqjUv/z+jXjO",
      "include_colab_link": true
    },
    "kernelspec": {
      "name": "python3",
      "display_name": "Python 3"
    },
    "language_info": {
      "name": "python"
    }
  },
  "cells": [
    {
      "cell_type": "markdown",
      "metadata": {
        "id": "view-in-github",
        "colab_type": "text"
      },
      "source": [
        "<a href=\"https://colab.research.google.com/github/nguyentantan141/MACHINE-LEARNING/blob/Machine-learning/Hoi_quy_Logistic.ipynb\" target=\"_parent\"><img src=\"https://colab.research.google.com/assets/colab-badge.svg\" alt=\"Open In Colab\"/></a>"
      ]
    },
    {
      "cell_type": "markdown",
      "source": [
        "# Thư viện"
      ],
      "metadata": {
        "id": "MS14ulK-Qzf3"
      }
    },
    {
      "cell_type": "code",
      "execution_count": 2,
      "metadata": {
        "id": "Hy2CMxFwQSoe"
      },
      "outputs": [],
      "source": [
        "import numpy as np\n",
        "import os\n",
        "from sklearn import preprocessing\n"
      ]
    },
    {
      "cell_type": "code",
      "source": [
        "from google.colab import drive\n",
        "drive.mount ('/content/drive')"
      ],
      "metadata": {
        "colab": {
          "base_uri": "https://localhost:8080/"
        },
        "id": "AhPz3eckAWYS",
        "outputId": "80c34dea-68fe-46eb-ae18-f339b9f961a5"
      },
      "execution_count": 3,
      "outputs": [
        {
          "output_type": "stream",
          "name": "stdout",
          "text": [
            "Drive already mounted at /content/drive; to attempt to forcibly remount, call drive.mount(\"/content/drive\", force_remount=True).\n"
          ]
        }
      ]
    },
    {
      "cell_type": "markdown",
      "source": [
        "#Đọc dữ liệu"
      ],
      "metadata": {
        "id": "afFzs4p_AXQE"
      }
    },
    {
      "cell_type": "code",
      "source": [
        "def readData(pathfolder: str, filename: str):\n",
        "  data=np.loadtxt(os.path.join(pathfolder, filename),delimiter=',')\n",
        "  return data"
      ],
      "metadata": {
        "id": "amZAvvbnRLs-"
      },
      "execution_count": 21,
      "outputs": []
    },
    {
      "cell_type": "markdown",
      "source": [
        "# Tiền xử lý dữ liệu"
      ],
      "metadata": {
        "id": "KscqqIKrAzYQ"
      }
    },
    {
      "cell_type": "code",
      "source": [
        "\n",
        "def scaling_minmax_norm(data):\n",
        "  scaler = preprocessing.MinMaxScaler()\n",
        "  #Phải thực hiện thao tác fit(data) trước khi điều chỉnh dữ liệu\n",
        "  scaler.fit(data)\n",
        "  #Thực hiện điều chỉnh dữ liệu\n",
        "  data = scaler.transform(data)\n",
        "  return data"
      ],
      "metadata": {
        "id": "mitodoGt9NwI"
      },
      "execution_count": 22,
      "outputs": []
    },
    {
      "cell_type": "code",
      "source": [
        "def scaling_center(data):\n",
        "  scaler = preprocessing.StandardScaler()\n",
        "  #Phải thực hiện thao tác fit(data) trước khi điều chỉnh dữ liệu\n",
        "  scaler.fit(data)\n",
        "  #Thực hiện điều chỉnh dữ liệu\n",
        "  data = scaler.transform(data)\n",
        "  return data"
      ],
      "metadata": {
        "id": "WwPzqnZa9SGP"
      },
      "execution_count": 23,
      "outputs": []
    },
    {
      "cell_type": "code",
      "source": [
        "def scaling_data(data,mode:str):\n",
        "    if mode=='center':\n",
        "      data_scl = scaling_center(data)\n",
        "    if mode=='minmax':\n",
        "      data_scl=scaling_minmax_norm(data)\n",
        "    X_scl, y_scl = data_scl[:,:-1], data_scl[:, -1]\n",
        "    m=X_scl.shape[0]\n",
        "    X_scl=np.hstack((np.ones((m,1)),X_scl))\n",
        "    y_scl=y_scl.reshape((m,1))\n",
        "    return X_scl, y_scl"
      ],
      "metadata": {
        "id": "v7o_o0-h9WUb"
      },
      "execution_count": 24,
      "outputs": []
    },
    {
      "cell_type": "markdown",
      "source": [
        "# Hồi quy Logistic"
      ],
      "metadata": {
        "id": "RZywyryS_BKr"
      }
    },
    {
      "cell_type": "code",
      "source": [
        "def sigmoid(X,w):\n",
        "  h=1/(1+np.exp(-np.dot(X,w)))\n",
        "  return h\n"
      ],
      "metadata": {
        "id": "JLbLpNYbBDaj"
      },
      "execution_count": 25,
      "outputs": []
    },
    {
      "cell_type": "code",
      "source": [
        "def Loss(X, y, w):\n",
        "  m=y.shape[0]\n",
        "  h=sigmoid(X,w)\n",
        "  J=(-1/m)*(np.dot(y.T,np.log(sigmoid(X,w)))+np.dot((1-y).T,np.log(1-sigmoid(X,w))))\n",
        "  return J\n",
        "\n"
      ],
      "metadata": {
        "id": "4OYufwkrC8db"
      },
      "execution_count": 26,
      "outputs": []
    },
    {
      "cell_type": "code",
      "source": [
        "def gradient(X, y, w):\n",
        "    m = X.shape[0]\n",
        "    result = (1/m)*np.dot(X.T, (sigmoid(X, w) - y))\n",
        "    return result\n"
      ],
      "metadata": {
        "id": "SmwGZIRT9b83"
      },
      "execution_count": 27,
      "outputs": []
    },
    {
      "cell_type": "code",
      "source": [
        "def gradient_descent(x,w,y,a,n):  \n",
        "  j_his=[]\n",
        "  w_opt=w.copy()\n",
        "  for _ in range(n):\n",
        "    w_opt=w_opt-a*gradient(x,y,w_opt)\n",
        "    j_his.append(Loss(x,y,w_opt))\n",
        "  return w_opt\n"
      ],
      "metadata": {
        "id": "v5600jgM9esz"
      },
      "execution_count": 31,
      "outputs": []
    },
    {
      "cell_type": "code",
      "source": [
        "def main(pathfolder: str, filename: str):\n",
        "  data=readData(pathfolder, filename)\n",
        "  X_scl_center,y_scl_center=scaling_data(data,'center')\n",
        "  X_scl_minmax,y_scl_minmax=scaling_data(data,'minmax')\n",
        "  w=np.zeros((X_scl_center.shape[1],1))\n",
        "  a=0.1\n",
        "  n=1000\n",
        "  w_his_center=gradient_descent(X_scl_center,w,y_scl_center,a,n)\n",
        "  w_his_minmax=gradient_descent(X_scl_minmax,w,y_scl_minmax,a,n)\n",
        "  print(\"W_optimal của dữ liệu được chuẩn hóa theo center scaling :\\n\",w_his_center)\n",
        "  print(\"W_optimal của dữ liệu được chuẩn hóa theo min-max normalization:\\n\",w_his_minmax)"
      ],
      "metadata": {
        "id": "LmjDPPNW9iVL"
      },
      "execution_count": 32,
      "outputs": []
    },
    {
      "cell_type": "code",
      "source": [
        "if __name__ == \"__main__\":\n",
        "  main('/content/drive/MyDrive/Data/data/','ex1data2.txt')"
      ],
      "metadata": {
        "colab": {
          "base_uri": "https://localhost:8080/"
        },
        "id": "R7H9UJVI9kK-",
        "outputId": "ee704daf-e2ac-4989-9353-a3f4b7a2afed"
      },
      "execution_count": 33,
      "outputs": [
        {
          "output_type": "stream",
          "name": "stdout",
          "text": [
            "W_optimal của dữ liệu được chuẩn hóa theo center scaling :\n",
            " [[-28.12462804]\n",
            " [ 52.22135486]\n",
            " [ 21.72139746]]\n",
            "W_optimal của dữ liệu được chuẩn hóa theo min-max normalization:\n",
            " [[-1.66154682]\n",
            " [ 2.35371997]\n",
            " [ 0.30241265]]\n"
          ]
        },
        {
          "output_type": "stream",
          "name": "stderr",
          "text": [
            "/usr/local/lib/python3.7/dist-packages/ipykernel_launcher.py:4: RuntimeWarning: divide by zero encountered in log\n",
            "  after removing the cwd from sys.path.\n"
          ]
        }
      ]
    }
  ]
}
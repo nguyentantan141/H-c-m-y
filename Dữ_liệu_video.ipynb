{
  "nbformat": 4,
  "nbformat_minor": 0,
  "metadata": {
    "colab": {
      "provenance": [],
      "toc_visible": true,
      "authorship_tag": "ABX9TyNmUFzaPKKlxb4om8A3d8p4",
      "include_colab_link": true
    },
    "kernelspec": {
      "name": "python3",
      "display_name": "Python 3"
    },
    "language_info": {
      "name": "python"
    }
  },
  "cells": [
    {
      "cell_type": "markdown",
      "metadata": {
        "id": "view-in-github",
        "colab_type": "text"
      },
      "source": [
        "<a href=\"https://colab.research.google.com/github/nguyentantan141/MACHINE-LEARNING/blob/Machine-learning/D%E1%BB%AF_li%E1%BB%87u_video.ipynb\" target=\"_parent\"><img src=\"https://colab.research.google.com/assets/colab-badge.svg\" alt=\"Open In Colab\"/></a>"
      ]
    },
    {
      "cell_type": "code",
      "source": [
        "from google.colab import drive\n",
        "drive.mount ('/content/drive/')\n"
      ],
      "metadata": {
        "colab": {
          "base_uri": "https://localhost:8080/"
        },
        "id": "9oRk3Ghta75N",
        "outputId": "2b8108b7-396a-44b7-9317-cad9c7f0569f"
      },
      "execution_count": null,
      "outputs": [
        {
          "output_type": "stream",
          "name": "stdout",
          "text": [
            "Drive already mounted at /content/drive/; to attempt to forcibly remount, call drive.mount(\"/content/drive/\", force_remount=True).\n"
          ]
        }
      ]
    },
    {
      "cell_type": "code",
      "source": [
        "from google.colab.patches import cv2_imshow\n",
        "import cv2\n",
        "import os\n",
        "import numpy as np\n"
      ],
      "metadata": {
        "id": "V8ew0qO6bdXF"
      },
      "execution_count": null,
      "outputs": []
    },
    {
      "cell_type": "code",
      "source": [
        "cap = cv2.VideoCapture(os.path.join('/content/drive/MyDrive/Data/datavideo/','1.mp4'))"
      ],
      "metadata": {
        "id": "q0LdjF5qv9nO"
      },
      "execution_count": null,
      "outputs": []
    },
    {
      "cell_type": "code",
      "source": [
        "def gray_pic(frame):\n",
        "  tensor_2=[]\n",
        "  gray = cv2.cvtColor(frame, cv2.COLOR_BGR2GRAY)\n",
        "  vector=gray.flatten()\n",
        "  tensor_2.append(vector)\n",
        "  tensor_2=np.array(tensor_2)\n",
        "  return tensor_2"
      ],
      "metadata": {
        "id": "2UhDrBEjv-99"
      },
      "execution_count": null,
      "outputs": []
    },
    {
      "cell_type": "code",
      "execution_count": null,
      "metadata": {
        "id": "ubfMLnV_CRjp"
      },
      "outputs": [],
      "source": [
        "while(1):\n",
        "  ret, frame = cap.read() # Lấy ảnh từ video  \n",
        "\n",
        "\n",
        "  \n",
        "\n",
        "\n",
        "\n",
        " "
      ]
    }
  ]
}
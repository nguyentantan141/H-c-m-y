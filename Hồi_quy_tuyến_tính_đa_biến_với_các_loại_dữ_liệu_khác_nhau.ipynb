{
  "nbformat": 4,
  "nbformat_minor": 0,
  "metadata": {
    "colab": {
      "provenance": [],
      "collapsed_sections": [],
      "authorship_tag": "ABX9TyNYWuEKM6PN2gFTufSJSaUK",
      "include_colab_link": true
    },
    "kernelspec": {
      "name": "python3",
      "display_name": "Python 3"
    },
    "language_info": {
      "name": "python"
    }
  },
  "cells": [
    {
      "cell_type": "markdown",
      "metadata": {
        "id": "view-in-github",
        "colab_type": "text"
      },
      "source": [
        "<a href=\"https://colab.research.google.com/github/nguyentantan141/MACHINE-LEARNING/blob/main/H%E1%BB%93i_quy_tuy%E1%BA%BFn_t%C3%ADnh_%C4%91a_bi%E1%BA%BFn_v%E1%BB%9Bi_c%C3%A1c_lo%E1%BA%A1i_d%E1%BB%AF_li%E1%BB%87u_kh%C3%A1c_nhau.ipynb\" target=\"_parent\"><img src=\"https://colab.research.google.com/assets/colab-badge.svg\" alt=\"Open In Colab\"/></a>"
      ]
    },
    {
      "cell_type": "code",
      "execution_count": 5,
      "metadata": {
        "colab": {
          "base_uri": "https://localhost:8080/"
        },
        "id": "OiUv5VxxCAD0",
        "outputId": "42562027-be8e-4d14-d4b7-d8adbf2c7826"
      },
      "outputs": [
        {
          "output_type": "stream",
          "name": "stdout",
          "text": [
            "Mounted at /content/drive/\n"
          ]
        }
      ],
      "source": [
        "import numpy as np\n",
        "import os\n",
        "from google.colab import drive\n",
        "drive.mount ('/content/drive/')"
      ]
    },
    {
      "cell_type": "markdown",
      "source": [
        "##Đọc dữ liệu"
      ],
      "metadata": {
        "id": "K9Lpf-YjqQ6-"
      }
    },
    {
      "cell_type": "code",
      "source": [
        "def readData(pathfolder: str, filename: str):\n",
        "  data=np.loadtxt(os.path.join(pathfolder, filename),delimiter=',')\n",
        "  X=data[:,:-1]\n",
        "  m=X.shape[0]\n",
        "  X=np.hstack((np.ones((m,1)),X))\n",
        "  y=data[:,-1].reshape([X.shape[0],1])\n",
        "  return X,y\n"
      ],
      "metadata": {
        "id": "bMOP3TWRqMTW"
      },
      "execution_count": 13,
      "outputs": []
    },
    {
      "cell_type": "markdown",
      "source": [
        "##Chuẩn hóa dữ liệu "
      ],
      "metadata": {
        "id": "MtpzpnSjqV-y"
      }
    },
    {
      "cell_type": "code",
      "source": [
        "def scaling_mean_norm(data):\n",
        "    avg = np.mean(data)\n",
        "    sln = data.max()\n",
        "    snn = data.min()\n",
        "    data_scl = (data - avg)/(sln - snn)\n",
        "    return data_scl"
      ],
      "metadata": {
        "id": "uWGqdLyXzizd"
      },
      "execution_count": 77,
      "outputs": []
    },
    {
      "cell_type": "code",
      "source": [
        "def scaling_minmax_norm(data):\n",
        "    sln = data.max()\n",
        "    snn = data.min()\n",
        "    data_scl = (data - snn)/(sln - snn)\n",
        "    return data_scl"
      ],
      "metadata": {
        "id": "ZIGTQIc_HeJv"
      },
      "execution_count": 76,
      "outputs": []
    },
    {
      "cell_type": "code",
      "source": [
        "def scaling_data(X, y,mode:str):\n",
        "    X_scl = X[:, 0]\n",
        "    for i in range(1, X.shape[1]):\n",
        "      if mode=='mean':\n",
        "        scl = scaling_mean_norm(X[:, i])\n",
        "        X_scl = np.column_stack([X_scl, scl])\n",
        "      if mode=='minmax':\n",
        "        scl=scaling_minmax_norm(X[:, i])\n",
        "        X_scl = np.column_stack([X_scl, scl])\n",
        "    if mode=='mean':\n",
        "      y_scl = scaling_mean_norm(y)\n",
        "    if mode=='minmax':\n",
        "      y_scl = scaling_minmax_norm(y)\n",
        "    return X_scl, y_scl"
      ],
      "metadata": {
        "id": "xIGFo7YLHj17"
      },
      "execution_count": 79,
      "outputs": []
    },
    {
      "cell_type": "markdown",
      "source": [
        "## Hồi quy tính tính đa biến"
      ],
      "metadata": {
        "id": "MDOc3p5AwSP-"
      }
    },
    {
      "cell_type": "code",
      "source": [
        "def calu_derivative(x,w,y):\n",
        "  m=y.shape[0]\n",
        "  j_deri=(1/m)*np.dot(x.T,(np.dot(x,w)-y))\n",
        "  return j_deri"
      ],
      "metadata": {
        "id": "aqeFCuElwR2z"
      },
      "execution_count": 46,
      "outputs": []
    },
    {
      "cell_type": "code",
      "source": [
        "def gradient_descent(x,w,y,a,n):  \n",
        "  w_history=[]\n",
        "  for _ in range(n):\n",
        "    w=w-a*calu_derivative(x,w,y)\n",
        "    w_history.append(w)\n",
        "  return w_history\n"
      ],
      "metadata": {
        "id": "Nu1SdAWRk2b1"
      },
      "execution_count": 47,
      "outputs": []
    },
    {
      "cell_type": "markdown",
      "source": [
        "##Tính hồi quy\n"
      ],
      "metadata": {
        "id": "ORhqRfoW6Aqu"
      }
    },
    {
      "cell_type": "code",
      "source": [
        "def main(pathfolder: str, filename: str):\n",
        "  X,y=readData(pathfolder, filename)\n",
        "  X_scl_mean,y_scl_mean=scaling_data(X,y,'mean')\n",
        "  X_scl_minmax,y_scl_minmax=scaling_data(X,y,'minmax')\n",
        "  w=np.zeros((X.shape[1],1))\n",
        "  a=0.1\n",
        "  n=1000\n",
        "  w_his=gradient_descent(X,w,y,a,n)\n",
        "  w_his_mean=gradient_descent(X_scl_mean,w,y_scl_mean,a,n)\n",
        "  w_his_minmax=gradient_descent(X_scl_minmax,w,y_scl_minmax,a,n)\n",
        "  print(\"W_optimal của dữ liệu thường:/n\",w_his[500])\n",
        "  print(\"W_optimal của dữ liệu được chuẩn hóa theo mean normalization:/n\",w_his_mean[500])\n",
        "  print(\"W_optimal của dữ liệu được chuẩn hóa theo min-max normalization:/n\",w_his_minmax[500])\n",
        "\n",
        "  "
      ],
      "metadata": {
        "id": "6CWVRb905ATz"
      },
      "execution_count": 86,
      "outputs": []
    },
    {
      "cell_type": "code",
      "source": [
        "if __name__ == \"__main__\":\n",
        "  main('/content/drive/MyDrive/Data/data/','ex1data2.txt')"
      ],
      "metadata": {
        "colab": {
          "base_uri": "https://localhost:8080/"
        },
        "id": "Hh4kLdZ37hO7",
        "outputId": "2c6bbda4-dd24-4315-a214-0612a60ad8f1"
      },
      "execution_count": 87,
      "outputs": [
        {
          "output_type": "stream",
          "name": "stdout",
          "text": [
            "W_optimal của dữ liệu thường:/n [[nan]\n",
            " [nan]\n",
            " [nan]]\n",
            "W_optimal của dữ liệu được chuẩn hóa theo mean normalization:/n [[-3.33657452e-17]\n",
            " [ 7.69324851e-01]\n",
            " [ 1.24753670e-01]]\n",
            "W_optimal của dữ liệu được chuẩn hóa theo min-max normalization:/n [[0.01782447]\n",
            " [0.76350806]\n",
            " [0.11487908]]\n"
          ]
        },
        {
          "output_type": "stream",
          "name": "stderr",
          "text": [
            "/usr/local/lib/python3.7/dist-packages/ipykernel_launcher.py:4: RuntimeWarning: invalid value encountered in subtract\n",
            "  after removing the cwd from sys.path.\n"
          ]
        }
      ]
    }
  ]
}
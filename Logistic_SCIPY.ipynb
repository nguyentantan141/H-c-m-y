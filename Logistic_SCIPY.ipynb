{
  "nbformat": 4,
  "nbformat_minor": 0,
  "metadata": {
    "colab": {
      "provenance": [],
      "authorship_tag": "ABX9TyNJB5MUnLmwFqg73JIfwA7l",
      "include_colab_link": true
    },
    "kernelspec": {
      "name": "python3",
      "display_name": "Python 3"
    },
    "language_info": {
      "name": "python"
    }
  },
  "cells": [
    {
      "cell_type": "markdown",
      "metadata": {
        "id": "view-in-github",
        "colab_type": "text"
      },
      "source": [
        "<a href=\"https://colab.research.google.com/github/nguyentantan141/MACHINE-LEARNING/blob/Machine-learning/Logistic_SCIPY.ipynb\" target=\"_parent\"><img src=\"https://colab.research.google.com/assets/colab-badge.svg\" alt=\"Open In Colab\"/></a>"
      ]
    },
    {
      "cell_type": "markdown",
      "source": [
        "# Thư viện"
      ],
      "metadata": {
        "id": "MS14ulK-Qzf3"
      }
    },
    {
      "cell_type": "code",
      "execution_count": null,
      "metadata": {
        "id": "Hy2CMxFwQSoe"
      },
      "outputs": [],
      "source": [
        "import numpy as np\n",
        "import os\n",
        "from sklearn import preprocessing\n",
        "from scipy import optimize\n"
      ]
    },
    {
      "cell_type": "code",
      "source": [
        "from google.colab import drive\n",
        "drive.mount ('/content/drive')"
      ],
      "metadata": {
        "colab": {
          "base_uri": "https://localhost:8080/"
        },
        "id": "AhPz3eckAWYS",
        "outputId": "500c41ca-7f25-4f63-d9a6-c34b920d4d54"
      },
      "execution_count": null,
      "outputs": [
        {
          "output_type": "stream",
          "name": "stdout",
          "text": [
            "Mounted at /content/drive\n"
          ]
        }
      ]
    },
    {
      "cell_type": "markdown",
      "source": [
        "#Đọc dữ liệu"
      ],
      "metadata": {
        "id": "afFzs4p_AXQE"
      }
    },
    {
      "cell_type": "code",
      "source": [
        "def readData(pathfolder: str, filename: str):\n",
        "  data=np.loadtxt(os.path.join(pathfolder, filename),delimiter=',')\n",
        "  X, y = data[:,:-1], data[:, -1]\n",
        "  return X, y"
      ],
      "metadata": {
        "id": "amZAvvbnRLs-"
      },
      "execution_count": null,
      "outputs": []
    },
    {
      "cell_type": "markdown",
      "source": [
        "# Tiền xử lý dữ liệu"
      ],
      "metadata": {
        "id": "KscqqIKrAzYQ"
      }
    },
    {
      "cell_type": "code",
      "source": [
        "\n",
        "def scaling_minmax_norm(data):\n",
        "  scaler = preprocessing.MinMaxScaler()\n",
        "  #Phải thực hiện thao tác fit(data) trước khi điều chỉnh dữ liệu\n",
        "  scaler.fit(data)\n",
        "  #Thực hiện điều chỉnh dữ liệu\n",
        "  data = scaler.transform(data)\n",
        "  return data"
      ],
      "metadata": {
        "id": "mitodoGt9NwI"
      },
      "execution_count": null,
      "outputs": []
    },
    {
      "cell_type": "code",
      "source": [
        "def scaling_center(data):\n",
        "  scaler = preprocessing.StandardScaler()\n",
        "  #Phải thực hiện thao tác fit(data) trước khi điều chỉnh dữ liệu\n",
        "  scaler.fit(data)\n",
        "  #Thực hiện điều chỉnh dữ liệu\n",
        "  data = scaler.transform(data)\n",
        "  return data"
      ],
      "metadata": {
        "id": "WwPzqnZa9SGP"
      },
      "execution_count": null,
      "outputs": []
    },
    {
      "cell_type": "code",
      "source": [
        "def scaling_X(X,mode:str):\n",
        "    if mode=='center':\n",
        "      X_scl = scaling_center(X)\n",
        "    if mode=='minmax':\n",
        "      X_scl=scaling_minmax_norm(X)\n",
        "    m=X.shape[0]\n",
        "    X_scl=np.hstack((np.ones((m,1)),X_scl))\n",
        "    return X_scl"
      ],
      "metadata": {
        "id": "v7o_o0-h9WUb"
      },
      "execution_count": null,
      "outputs": []
    },
    {
      "cell_type": "markdown",
      "source": [
        "# Hồi quy Logistic"
      ],
      "metadata": {
        "id": "RZywyryS_BKr"
      }
    },
    {
      "cell_type": "code",
      "source": [
        "def sigmoid(X,w):\n",
        "  h=1/(1+np.exp(-np.dot(X,w)))\n",
        "  return h\n"
      ],
      "metadata": {
        "id": "JLbLpNYbBDaj"
      },
      "execution_count": null,
      "outputs": []
    },
    {
      "cell_type": "code",
      "source": [
        "    \n",
        "def loss(w,X, y):\n",
        "  m=y.shape[0]\n",
        "  h=sigmoid(X,w)\n",
        "  result = (-1 / m) * np.sum(np.dot(y.T, np.log(h)) + np.dot((1 - y).T, np.log(1 - h)))\n",
        "  return result\n",
        "\n",
        "\n"
      ],
      "metadata": {
        "id": "4OYufwkrC8db"
      },
      "execution_count": null,
      "outputs": []
    },
    {
      "cell_type": "code",
      "source": [
        "def minimize_scipy(X,y,w,n_iters):\n",
        "    #Thứ tự xuất hiện các tham số của hàm loss phải đổi lại theo thứ tự trong optimize.minimize là\n",
        "    #loss(w, X, y)\n",
        "    #result = optimize.minimize(fun=loss, x0=w, args=(X,y),method='L-BFGS-B',options={\"maxiter\":n_iters} )\n",
        "    #result\n",
        "    #W_optimal của dữ liệu được chuẩn hóa theo center scaling :\n",
        "    #[1.71844823 3.99278157 3.72513806]\n",
        "    #W_optimal của dữ liệu được chuẩn hóa theo min-max normalization:\n",
        "    #[-12.79664873  14.38867203  13.75379772]\n",
        "    result = optimize.minimize(fun=loss, x0=w, args=(X,y),method='TNC',options={\"maxiter\":n_iters} )\n",
        "    #result\n",
        "    #W_optimal của dữ liệu được chuẩn hóa theo center scaling :\n",
        "    #[1.718648   3.99314841 3.72535617]\n",
        "    #W_optimal của dữ liệu được chuẩn hóa theo min-max normalization:\n",
        "    #[-12.79969199  14.39231687  13.7570447 ]\n",
        "    w_optimal = result.x\n",
        "    J_optimal = result.fun\n",
        "    return w_optimal, J_optimal"
      ],
      "metadata": {
        "id": "SmwGZIRT9b83"
      },
      "execution_count": null,
      "outputs": []
    },
    {
      "cell_type": "code",
      "source": [
        "def main(pathfolder: str, filename: str):\n",
        "  X,y=readData(pathfolder, filename)\n",
        "  X_scl_center=scaling_X(X,'center')\n",
        "  X_scl_minmax=scaling_X(X,'minmax')\n",
        "  w=np.zeros(X_scl_center.shape[1])\n",
        "  n=1000\n",
        "  w_his_center,j=minimize_scipy(X_scl_center,y,w,n)\n",
        "  w_his_minmax,j=minimize_scipy(X_scl_minmax,y,w,n)\n",
        "  print(\"W_optimal của dữ liệu được chuẩn hóa theo center scaling :\\n\",w_his_center)\n",
        "  print(\"W_optimal của dữ liệu được chuẩn hóa theo min-max normalization:\\n\",w_his_minmax)"
      ],
      "metadata": {
        "id": "LmjDPPNW9iVL"
      },
      "execution_count": null,
      "outputs": []
    },
    {
      "cell_type": "code",
      "source": [
        "if __name__ == \"__main__\":\n",
        "  main('/content/drive/MyDrive/Data/data/','ex2data1.txt')"
      ],
      "metadata": {
        "colab": {
          "base_uri": "https://localhost:8080/"
        },
        "id": "R7H9UJVI9kK-",
        "outputId": "49fdadc7-24f0-4790-e60d-35dcf0220cf3"
      },
      "execution_count": null,
      "outputs": [
        {
          "output_type": "stream",
          "name": "stdout",
          "text": [
            "W_optimal của dữ liệu được chuẩn hóa theo center scaling :\n",
            " [1.718648   3.99314841 3.72535617]\n",
            "W_optimal của dữ liệu được chuẩn hóa theo min-max normalization:\n",
            " [-12.79969199  14.39231687  13.7570447 ]\n"
          ]
        }
      ]
    }
  ]
}
{
  "nbformat": 4,
  "nbformat_minor": 0,
  "metadata": {
    "colab": {
      "provenance": [],
      "collapsed_sections": [],
      "authorship_tag": "ABX9TyPpKYRmhPDlw3eYxxn0mbHd",
      "include_colab_link": true
    },
    "kernelspec": {
      "name": "python3",
      "display_name": "Python 3"
    },
    "language_info": {
      "name": "python"
    }
  },
  "cells": [
    {
      "cell_type": "markdown",
      "metadata": {
        "id": "view-in-github",
        "colab_type": "text"
      },
      "source": [
        "<a href=\"https://colab.research.google.com/github/nguyentantan141/MACHINE-LEARNING/blob/Machine-learning/Ti%E1%BB%81n_x%E1%BB%AD_l%C3%BD_d%E1%BB%AF_li%E1%BB%87u_khi_x%C3%A2y_d%E1%BB%B1ng_m%C3%B4_h%C3%ACnh_HQTT_.ipynb\" target=\"_parent\"><img src=\"https://colab.research.google.com/assets/colab-badge.svg\" alt=\"Open In Colab\"/></a>"
      ]
    },
    {
      "cell_type": "code",
      "execution_count": 12,
      "metadata": {
        "colab": {
          "base_uri": "https://localhost:8080/"
        },
        "id": "OiUv5VxxCAD0",
        "outputId": "bcce116d-d4f2-400d-8046-32430bb5c6d5"
      },
      "outputs": [
        {
          "output_type": "stream",
          "name": "stdout",
          "text": [
            "Drive already mounted at /content/drive/; to attempt to forcibly remount, call drive.mount(\"/content/drive/\", force_remount=True).\n"
          ]
        }
      ],
      "source": [
        "import numpy as np\n",
        "import os\n",
        "from sklearn import preprocessing\n",
        "from google.colab import drive\n",
        "drive.mount ('/content/drive/')"
      ]
    },
    {
      "cell_type": "markdown",
      "source": [
        "##Đọc dữ liệu"
      ],
      "metadata": {
        "id": "K9Lpf-YjqQ6-"
      }
    },
    {
      "cell_type": "code",
      "source": [
        "def readData(pathfolder: str, filename: str):\n",
        "  data=np.loadtxt(os.path.join(pathfolder, filename),delimiter=',')\n",
        "  return data\n"
      ],
      "metadata": {
        "id": "bMOP3TWRqMTW"
      },
      "execution_count": 13,
      "outputs": []
    },
    {
      "cell_type": "markdown",
      "source": [
        "##Chuẩn hóa dữ liệu "
      ],
      "metadata": {
        "id": "MtpzpnSjqV-y"
      }
    },
    {
      "cell_type": "code",
      "source": [
        "\n",
        "def scaling_minmax_norm(data):\n",
        "  scaler = preprocessing.MinMaxScaler()\n",
        "  #Phải thực hiện thao tác fit(data) trước khi điều chỉnh dữ liệu\n",
        "  scaler.fit(data)\n",
        "  #Thực hiện điều chỉnh dữ liệu\n",
        "  data = scaler.transform(data)\n",
        "  return data\n",
        "  "
      ],
      "metadata": {
        "id": "FnMR5GLaIo-H"
      },
      "execution_count": 18,
      "outputs": []
    },
    {
      "cell_type": "code",
      "source": [
        "def scaling_center(data):\n",
        "  scaler = preprocessing.StandardScaler()\n",
        "  #Phải thực hiện thao tác fit(data) trước khi điều chỉnh dữ liệu\n",
        "  scaler.fit(data)\n",
        "  #Thực hiện điều chỉnh dữ liệu\n",
        "  data = scaler.transform(data)\n",
        "  return data"
      ],
      "metadata": {
        "id": "C9iaBkm6JsLM"
      },
      "execution_count": 19,
      "outputs": []
    },
    {
      "cell_type": "code",
      "source": [
        "def scaling_data(data,mode:str):\n",
        "    if mode=='center':\n",
        "      data_scl = scaling_center(data)\n",
        "    if mode=='minmax':\n",
        "      data_scl=scaling_minmax_norm(data)\n",
        "    X_scl, y_scl = data_scl[:,:-1], data_scl[:, -1]\n",
        "    m=X_scl.shape[0]\n",
        "    X_scl=np.hstack((np.ones((m,1)),X_scl))\n",
        "    y_scl=y_scl.reshape((m,1))\n",
        "    return X_scl, y_scl"
      ],
      "metadata": {
        "id": "o4GdywX8JeJN"
      },
      "execution_count": 21,
      "outputs": []
    },
    {
      "cell_type": "markdown",
      "source": [
        "## Hồi quy tính tính đa biến"
      ],
      "metadata": {
        "id": "MDOc3p5AwSP-"
      }
    },
    {
      "cell_type": "code",
      "source": [
        "def calu_derivative(x,w,y):\n",
        "  m=y.shape[0]\n",
        "  j_deri=(1/m)*np.dot(x.T,(np.dot(x,w)-y))\n",
        "  return j_deri"
      ],
      "metadata": {
        "id": "aqeFCuElwR2z"
      },
      "execution_count": 22,
      "outputs": []
    },
    {
      "cell_type": "code",
      "source": [
        "def gradient_descent(x,w,y,a,n):  \n",
        "  w_history=[]\n",
        "  for _ in range(n):\n",
        "    w=w-a*calu_derivative(x,w,y)\n",
        "    w_history.append(w)\n",
        "  return w_history\n"
      ],
      "metadata": {
        "id": "Nu1SdAWRk2b1"
      },
      "execution_count": 23,
      "outputs": []
    },
    {
      "cell_type": "markdown",
      "source": [
        "##Tính hồi quy\n"
      ],
      "metadata": {
        "id": "ORhqRfoW6Aqu"
      }
    },
    {
      "cell_type": "code",
      "source": [
        "def main(pathfolder: str, filename: str):\n",
        "  data=readData(pathfolder, filename)\n",
        "  X_scl_center,y_scl_center=scaling_data(data,'center')\n",
        "  X_scl_minmax,y_scl_minmax=scaling_data(data,'minmax')\n",
        "  w=np.zeros((X_scl_center.shape[1],1))\n",
        "  a=0.1\n",
        "  n=1000\n",
        "  w_his_center=gradient_descent(X_scl_center,w,y_scl_center,a,n)\n",
        "  w_his_minmax=gradient_descent(X_scl_minmax,w,y_scl_minmax,a,n)\n",
        "  print(\"W_optimal của dữ liệu được chuẩn hóa theo center scaling :\\n\",w_his_center[500])\n",
        "  print(\"W_optimal của dữ liệu được chuẩn hóa theo min-max normalization:\\n\",w_his_minmax[500])\n",
        "\n",
        "\n",
        "  "
      ],
      "metadata": {
        "id": "6CWVRb905ATz"
      },
      "execution_count": 24,
      "outputs": []
    },
    {
      "cell_type": "code",
      "source": [
        "if __name__ == \"__main__\":\n",
        "  main('/content/drive/MyDrive/Data/data/','ex1data2.txt')"
      ],
      "metadata": {
        "colab": {
          "base_uri": "https://localhost:8080/"
        },
        "id": "Hh4kLdZ37hO7",
        "outputId": "f5150df4-1306-45e2-b744-6d784318cef7"
      },
      "execution_count": 25,
      "outputs": [
        {
          "output_type": "stream",
          "name": "stdout",
          "text": [
            "W_optimal của dữ liệu được chuẩn hóa theo center scaling :\n",
            " [[-8.28533459e-17]\n",
            " [ 8.84765988e-01]\n",
            " [-5.31788196e-02]]\n",
            "W_optimal của dữ liệu được chuẩn hóa theo min-max normalization:\n",
            " [[0.01782447]\n",
            " [0.76350806]\n",
            " [0.11487908]]\n"
          ]
        }
      ]
    }
  ]
}
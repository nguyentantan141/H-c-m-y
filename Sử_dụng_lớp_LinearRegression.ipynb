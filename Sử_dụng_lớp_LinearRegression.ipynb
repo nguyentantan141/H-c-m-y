{
  "nbformat": 4,
  "nbformat_minor": 0,
  "metadata": {
    "colab": {
      "provenance": [],
      "authorship_tag": "ABX9TyO1ROXumUzVakdk5orq6yRb",
      "include_colab_link": true
    },
    "kernelspec": {
      "name": "python3",
      "display_name": "Python 3"
    },
    "language_info": {
      "name": "python"
    }
  },
  "cells": [
    {
      "cell_type": "markdown",
      "metadata": {
        "id": "view-in-github",
        "colab_type": "text"
      },
      "source": [
        "<a href=\"https://colab.research.google.com/github/nguyentantan141/MACHINE-LEARNING/blob/Machine-learning/S%E1%BB%AD_d%E1%BB%A5ng_l%E1%BB%9Bp_LinearRegression.ipynb\" target=\"_parent\"><img src=\"https://colab.research.google.com/assets/colab-badge.svg\" alt=\"Open In Colab\"/></a>"
      ]
    },
    {
      "cell_type": "code",
      "execution_count": 14,
      "metadata": {
        "id": "OiUv5VxxCAD0"
      },
      "outputs": [],
      "source": [
        "import numpy as np\n",
        "import os\n",
        "from sklearn import preprocessing\n",
        "from sklearn.linear_model import LinearRegression\n"
      ]
    },
    {
      "cell_type": "code",
      "source": [
        "from google.colab import drive\n",
        "drive.mount ('/content/drive/')"
      ],
      "metadata": {
        "colab": {
          "base_uri": "https://localhost:8080/"
        },
        "id": "1b5VyV8iY8rq",
        "outputId": "b8b3bed8-415d-46a5-d914-8bd3518e2cc5"
      },
      "execution_count": 15,
      "outputs": [
        {
          "output_type": "stream",
          "name": "stdout",
          "text": [
            "Drive already mounted at /content/drive/; to attempt to forcibly remount, call drive.mount(\"/content/drive/\", force_remount=True).\n"
          ]
        }
      ]
    },
    {
      "cell_type": "markdown",
      "source": [
        "##Đọc dữ liệu"
      ],
      "metadata": {
        "id": "K9Lpf-YjqQ6-"
      }
    },
    {
      "cell_type": "code",
      "source": [
        "def readData(pathfolder: str, filename: str):\n",
        "  data=np.loadtxt(os.path.join(pathfolder, filename),delimiter=',')\n",
        "  return data\n"
      ],
      "metadata": {
        "id": "bMOP3TWRqMTW"
      },
      "execution_count": 16,
      "outputs": []
    },
    {
      "cell_type": "markdown",
      "source": [
        "##Chuẩn hóa dữ liệu "
      ],
      "metadata": {
        "id": "MtpzpnSjqV-y"
      }
    },
    {
      "cell_type": "code",
      "source": [
        "\n",
        "def scaling_minmax_norm(data):\n",
        "  scaler = preprocessing.MinMaxScaler()\n",
        "  #Phải thực hiện thao tác fit(data) trước khi điều chỉnh dữ liệu\n",
        "  scaler.fit(data)\n",
        "  #Thực hiện điều chỉnh dữ liệu\n",
        "  data = scaler.transform(data)\n",
        "  # Lấy ra tập X và y\n",
        "  X_scl, y_scl = data[:,:-1], data[:,-1]\n",
        "  m=X_scl.shape[0]\n",
        "  X_scl=np.hstack((np.ones((m,1)),X_scl))\n",
        "  y_scl=y_scl.reshape((m,1))\n",
        "  return X_scl, y_scl\n",
        "  \n",
        "  "
      ],
      "metadata": {
        "id": "FnMR5GLaIo-H"
      },
      "execution_count": 26,
      "outputs": []
    },
    {
      "cell_type": "markdown",
      "source": [
        "##Linear Regression\n"
      ],
      "metadata": {
        "id": "ORhqRfoW6Aqu"
      }
    },
    {
      "cell_type": "code",
      "source": [
        "def ln(X,y):\n",
        "  model = LinearRegression()\n",
        "  #Huấn luyện mô hình với tập dữ liệu X, y\n",
        "  model.fit(X,y)\n",
        "  #Bộ trọng số tối ưu:\n",
        "  return model.coef_"
      ],
      "metadata": {
        "id": "MNBSbzEMZZq1"
      },
      "execution_count": 39,
      "outputs": []
    },
    {
      "cell_type": "markdown",
      "source": [],
      "metadata": {
        "id": "Np6CqwVeeb5C"
      }
    },
    {
      "cell_type": "code",
      "source": [],
      "metadata": {
        "id": "y2katV7Rebp-"
      },
      "execution_count": null,
      "outputs": []
    },
    {
      "cell_type": "code",
      "source": [
        "def main(pathfolder: str, filename: str):\n",
        "  data=readData(pathfolder, filename)\n",
        "  X_scl_minmax, y_scl_minmax=scaling_minmax_norm(data)\n",
        "  w_minmax=ln(X_scl_minmax,y_scl_minmax)\n",
        "  print(\"W_optimal của dữ liệu được chuẩn hóa theo min-max normalization:\\n\",w_minmax)"
      ],
      "metadata": {
        "id": "-qTxVjROaSuV"
      },
      "execution_count": 40,
      "outputs": []
    },
    {
      "cell_type": "code",
      "source": [
        "if __name__ == \"__main__\":\n",
        "  main('/content/drive/MyDrive/Data/data/','ex1data2.txt')"
      ],
      "metadata": {
        "colab": {
          "base_uri": "https://localhost:8080/"
        },
        "id": "Hh4kLdZ37hO7",
        "outputId": "038b9da9-5040-4c86-e699-918cdbea35cf"
      },
      "execution_count": 41,
      "outputs": [
        {
          "output_type": "stream",
          "name": "stdout",
          "text": [
            "W_optimal của dữ liệu được chuẩn hóa theo min-max normalization:\n",
            " [[ 0.          0.95241114 -0.06594731]]\n"
          ]
        }
      ]
    }
  ]
}
{
  "nbformat": 4,
  "nbformat_minor": 0,
  "metadata": {
    "colab": {
      "provenance": [],
      "authorship_tag": "ABX9TyMwLAVR0ZLQdm4Ho8ZKf9S3",
      "include_colab_link": true
    },
    "kernelspec": {
      "name": "python3",
      "display_name": "Python 3"
    },
    "language_info": {
      "name": "python"
    }
  },
  "cells": [
    {
      "cell_type": "markdown",
      "metadata": {
        "id": "view-in-github",
        "colab_type": "text"
      },
      "source": [
        "<a href=\"https://colab.research.google.com/github/nguyentantan141/MACHINE-LEARNING/blob/Machine-learning/Train_test_split.ipynb\" target=\"_parent\"><img src=\"https://colab.research.google.com/assets/colab-badge.svg\" alt=\"Open In Colab\"/></a>"
      ]
    },
    {
      "cell_type": "markdown",
      "source": [
        "Cho tập dữ liệu ban đầu $D=\\left\\{(X, y)|X ∈ R^{m×n}\\hspace{0.2cm}và\\hspace{0.2cm} y∈R^{m}\\right\\}$ được chia thành 2, gồm:\n",
        "\n",
        "- Tập dữ liệu huấn luyện Dtrain thông thường bằng 70% D;\n",
        "- Tập dữ liệu kiểm thử Dtest thông thường bằng 30% D.\n",
        "\n",
        "Thư viện [sklearn](https://scikit-learn.org/stable/modules/generated/sklearn.model_selection.train_test_split.html) cung cấp hàm hỗ trợ việc phân chia này. Cú pháp đầy đủ của hàm\n",
        "train_test_split().\n",
        "\n",
        "**Cú pháp**:\n",
        "\n",
        "sklearn.model_selection.train_test_split(*arrays, test_size=None,train_size=None, random_state=None, shuffle=True, stratify=None)"
      ],
      "metadata": {
        "id": "4QXyAGlQeb7r"
      }
    },
    {
      "cell_type": "markdown",
      "source": [
        "\n",
        "\n",
        "1. Các tham số của ***train_test_split()***\n",
        "* arrays: tập dữ liệu cần được phân chia, có thể nhiều hơn 2 biến truyền vào\n",
        "* test_size: kích thước của tập dữ liệu test\n",
        "* train_size: kích thước của tập dữ liệu train\n",
        "* random_state: nhận bất kể giá trị nào, tham số này giống như việc gán kết quả của việc phân chia đó lại, đảm bảo nó không bị thay đổi khi chạy lại câu lệnh,  mỗi giá trị sẽ lưu trữ một kết quả của lần phân chia\n",
        "* shuffle:Có thực hiện việc trộn dữ liệu trước khi phân chia hay không, mặc định là TRUE \n",
        "* stratify: mặc định là None, có nghĩa dữ liệu là dữ liệu phân tầng\n",
        "\n",
        "2. Tham số ***shuffe***\n",
        "* Trong thực tế, các loại dữ liệu thường là dữ liệu phân tầng (dữ liệu theo thời gian,..), do đó shuffe phải được định nghĩa là FAlSE  thì được sử dụng cho tập dữ liệu có phân tầng (dữ liệu theo trình tự thời gian).Còn mặc định là TRUE và được sử dụng cho các tập dữ liệu bình thường, không có sự phân tầng. \n"
      ],
      "metadata": {
        "id": "zEp8l3QTlgU7"
      }
    },
    {
      "cell_type": "markdown",
      "source": [
        "Ở hình thức đơn giản nhất, việc phân chia D theo tỉ lệ 70% - 30% được tiến hành như sau:"
      ],
      "metadata": {
        "id": "PT_LAfjUptST"
      }
    },
    {
      "cell_type": "code",
      "source": [
        "import numpy as np\n",
        "import sklearn.model_selection as model_selection \n",
        "import os"
      ],
      "metadata": {
        "id": "vOd00h61iekS"
      },
      "execution_count": 58,
      "outputs": []
    },
    {
      "cell_type": "code",
      "source": [
        "from google.colab import drive\n",
        "drive.mount ('/content/drive/')"
      ],
      "metadata": {
        "colab": {
          "base_uri": "https://localhost:8080/"
        },
        "id": "QsvPRH4_j0Er",
        "outputId": "2d145806-ae3f-434b-e926-74cf68604019"
      },
      "execution_count": 60,
      "outputs": [
        {
          "output_type": "stream",
          "name": "stdout",
          "text": [
            "Drive already mounted at /content/drive/; to attempt to forcibly remount, call drive.mount(\"/content/drive/\", force_remount=True).\n"
          ]
        }
      ]
    },
    {
      "cell_type": "code",
      "execution_count": 61,
      "metadata": {
        "id": "RVaWYgp1eZ5f"
      },
      "outputs": [],
      "source": [
        "def split_data(folder,filename):\n",
        "  D = np.loadtxt(os.path.join(folder, filename), delimiter=',')\n",
        "  X, y = D[:,:-1], D[:,-1]\n",
        "  X_train, X_test, y_train, y_test = model_selection.train_test_split(X, y, test_size=0.30)\n",
        "  return X_train, X_test, y_train, y_test"
      ]
    },
    {
      "cell_type": "code",
      "source": [
        "X_train, X_test, y_train, y_test=split_data('/content/drive/MyDrive/Data/data/','ex1data2.txt')"
      ],
      "metadata": {
        "id": "M-ChrnFcjqtn"
      },
      "execution_count": 62,
      "outputs": []
    }
  ]
}
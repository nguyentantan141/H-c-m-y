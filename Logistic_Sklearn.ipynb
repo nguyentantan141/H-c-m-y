{
  "nbformat": 4,
  "nbformat_minor": 0,
  "metadata": {
    "colab": {
      "provenance": [],
      "authorship_tag": "ABX9TyNc6Iqh9m39GB+q+4jJS0+4",
      "include_colab_link": true
    },
    "kernelspec": {
      "name": "python3",
      "display_name": "Python 3"
    },
    "language_info": {
      "name": "python"
    }
  },
  "cells": [
    {
      "cell_type": "markdown",
      "metadata": {
        "id": "view-in-github",
        "colab_type": "text"
      },
      "source": [
        "<a href=\"https://colab.research.google.com/github/nguyentantan141/MACHINE-LEARNING/blob/Machine-learning/Logistic_Sklearn.ipynb\" target=\"_parent\"><img src=\"https://colab.research.google.com/assets/colab-badge.svg\" alt=\"Open In Colab\"/></a>"
      ]
    },
    {
      "cell_type": "markdown",
      "source": [
        "# Thư viện"
      ],
      "metadata": {
        "id": "MS14ulK-Qzf3"
      }
    },
    {
      "cell_type": "code",
      "execution_count": 1,
      "metadata": {
        "id": "Hy2CMxFwQSoe"
      },
      "outputs": [],
      "source": [
        "import numpy as np\n",
        "import os\n",
        "from sklearn import preprocessing\n",
        "from sklearn.linear_model import LogisticRegression\n"
      ]
    },
    {
      "cell_type": "code",
      "source": [
        "from google.colab import drive\n",
        "drive.mount ('/content/drive')"
      ],
      "metadata": {
        "colab": {
          "base_uri": "https://localhost:8080/"
        },
        "id": "AhPz3eckAWYS",
        "outputId": "e1030498-9cdf-4d0c-8f70-41dd790735a1"
      },
      "execution_count": 2,
      "outputs": [
        {
          "output_type": "stream",
          "name": "stdout",
          "text": [
            "Mounted at /content/drive\n"
          ]
        }
      ]
    },
    {
      "cell_type": "markdown",
      "source": [
        "#Đọc dữ liệu"
      ],
      "metadata": {
        "id": "afFzs4p_AXQE"
      }
    },
    {
      "cell_type": "code",
      "source": [
        "def readData(pathfolder: str, filename: str):\n",
        "  data=np.loadtxt(os.path.join(pathfolder, filename),delimiter=',')\n",
        "  X, y = data[:,:-1], data[:, -1]\n",
        "  return X, y"
      ],
      "metadata": {
        "id": "amZAvvbnRLs-"
      },
      "execution_count": 4,
      "outputs": []
    },
    {
      "cell_type": "markdown",
      "source": [
        "# Tiền xử lý dữ liệu"
      ],
      "metadata": {
        "id": "KscqqIKrAzYQ"
      }
    },
    {
      "cell_type": "code",
      "source": [
        "\n",
        "def scaling_minmax_norm(data):\n",
        "  scaler = preprocessing.MinMaxScaler()\n",
        "  #Phải thực hiện thao tác fit(data) trước khi điều chỉnh dữ liệu\n",
        "  scaler.fit(data)\n",
        "  #Thực hiện điều chỉnh dữ liệu\n",
        "  data = scaler.transform(data)\n",
        "  return data"
      ],
      "metadata": {
        "id": "mitodoGt9NwI"
      },
      "execution_count": 5,
      "outputs": []
    },
    {
      "cell_type": "code",
      "source": [
        "def scaling_center(data):\n",
        "  scaler = preprocessing.StandardScaler()\n",
        "  #Phải thực hiện thao tác fit(data) trước khi điều chỉnh dữ liệu\n",
        "  scaler.fit(data)\n",
        "  #Thực hiện điều chỉnh dữ liệu\n",
        "  data = scaler.transform(data)\n",
        "  return data"
      ],
      "metadata": {
        "id": "WwPzqnZa9SGP"
      },
      "execution_count": 6,
      "outputs": []
    },
    {
      "cell_type": "code",
      "source": [
        "def scaling_X(X,mode:str):\n",
        "    if mode=='center':\n",
        "      X_scl = scaling_center(X)\n",
        "    if mode=='minmax':\n",
        "      X_scl=scaling_minmax_norm(X)\n",
        "    m=X.shape[0]\n",
        "    X_scl=np.hstack((np.ones((m,1)),X_scl))\n",
        "    return X_scl"
      ],
      "metadata": {
        "id": "v7o_o0-h9WUb"
      },
      "execution_count": 7,
      "outputs": []
    },
    {
      "cell_type": "markdown",
      "source": [
        "# Hồi quy Logistic"
      ],
      "metadata": {
        "id": "RZywyryS_BKr"
      }
    },
    {
      "cell_type": "code",
      "source": [
        "def lr(X,y,sol:str):\n",
        "  #Khởi tạo mô hình\n",
        "  model = LogisticRegression(solver=sol)\n",
        "  #Huấn luyện mô hình với tập dữ liệu X, y\n",
        "  model.fit(X,y)\n",
        "  #Bộ trọng số tối ưu:\n",
        "  return  model.coef_"
      ],
      "metadata": {
        "id": "jmGtt7Rg3EfF"
      },
      "execution_count": 11,
      "outputs": []
    },
    {
      "cell_type": "code",
      "source": [
        "def main(pathfolder: str, filename: str):\n",
        "  X,y=readData(pathfolder, filename)\n",
        "  X_scl_center=scaling_X(X,'center')\n",
        "  X_scl_minmax=scaling_X(X,'minmax')\n",
        "  w=np.zeros(X_scl_center.shape[1])\n",
        "  n=1000\n",
        "  w_his_center=lr(X_scl_center,y,'lbfgs')\n",
        "  w_his_minmax=lr(X_scl_minmax,y,'sag')\n",
        "  print(\"W_optimal của dữ liệu được chuẩn hóa theo center scaling :\\n\",w_his_center)\n",
        "  print(\"W_optimal của dữ liệu được chuẩn hóa theo min-max normalization:\\n\",w_his_minmax)"
      ],
      "metadata": {
        "id": "LmjDPPNW9iVL"
      },
      "execution_count": 31,
      "outputs": []
    },
    {
      "cell_type": "code",
      "source": [
        "if __name__ == \"__main__\":\n",
        "  main('/content/drive/MyDrive/Data/data/','ex2data1.txt')"
      ],
      "metadata": {
        "colab": {
          "base_uri": "https://localhost:8080/"
        },
        "id": "R7H9UJVI9kK-",
        "outputId": "1f48884c-62fa-42c2-fdaa-c56fed6550af"
      },
      "execution_count": 32,
      "outputs": [
        {
          "output_type": "stream",
          "name": "stdout",
          "text": [
            "W_optimal của dữ liệu được chuẩn hóa theo center scaling :\n",
            " [[-3.89764541e-05  2.28480941e+00  2.09157363e+00]]\n",
            "W_optimal của dữ liệu được chuẩn hóa theo min-max normalization:\n",
            " [[-8.27535666e-05  3.12260129e+00  2.82322812e+00]]\n"
          ]
        }
      ]
    },
    {
      "cell_type": "markdown",
      "source": [
        "* THUẬT TOÁN TỐI ƯU 'LBFGS'\n",
        "\n",
        "W_optimal của dữ liệu được chuẩn hóa theo min-max normalization:\n",
        " \n",
        " [[1.45627316e-08 3.12282175e+00 2.82350117e+00]]\n",
        "\n",
        "* THUẬT TOÁN TỐI ƯU 'SAGA'\n",
        "\n",
        "W_optimal của dữ liệu được chuẩn hóa theo min-max normalization:\n",
        " \n",
        " [[-1.59418694e-03  3.12255276e+00  2.82322465e+00]]\n",
        " * THUẬT TOÁN TỐI ƯU 'SAG'\n",
        "\n",
        "W_optimal của dữ liệu được chuẩn hóa theo min-max normalization:\n",
        " \n",
        "[[-2.23208525e-05  3.12313432e+00  2.82317096e+00]]"
      ],
      "metadata": {
        "id": "l0GPHxdA6l9Y"
      }
    }
  ]
}
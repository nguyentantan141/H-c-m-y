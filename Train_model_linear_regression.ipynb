{
  "nbformat": 4,
  "nbformat_minor": 0,
  "metadata": {
    "colab": {
      "provenance": [],
      "authorship_tag": "ABX9TyNBHRKyKzWLKL9zVD0pBLAe",
      "include_colab_link": true
    },
    "kernelspec": {
      "name": "python3",
      "display_name": "Python 3"
    },
    "language_info": {
      "name": "python"
    }
  },
  "cells": [
    {
      "cell_type": "markdown",
      "metadata": {
        "id": "view-in-github",
        "colab_type": "text"
      },
      "source": [
        "<a href=\"https://colab.research.google.com/github/nguyentantan141/MACHINE-LEARNING/blob/Machine-learning/Train_model_linear_regression.ipynb\" target=\"_parent\"><img src=\"https://colab.research.google.com/assets/colab-badge.svg\" alt=\"Open In Colab\"/></a>"
      ]
    },
    {
      "cell_type": "code",
      "source": [
        "import numpy as np\n",
        "import os\n",
        "from scipy import optimize\n",
        "from sklearn.model_selection import train_test_split\n",
        "from sklearn.model_selection import KFold\n",
        "from sklearn.metrics import mean_squared_error\n",
        "from sklearn.preprocessing import MinMaxScaler\n",
        "from sklearn.linear_model import LinearRegression\n",
        "from sklearn.linear_model import Ridge\n",
        "from sklearn.linear_model import Lasso"
      ],
      "metadata": {
        "id": "aiUIetXp1QGK"
      },
      "execution_count": null,
      "outputs": []
    },
    {
      "cell_type": "code",
      "source": [
        "from google.colab import drive\n",
        "drive.mount ('/content/drive/')"
      ],
      "metadata": {
        "colab": {
          "base_uri": "https://localhost:8080/"
        },
        "id": "La9YGkQP3XnO",
        "outputId": "8b4f58a5-da2e-4feb-8a02-6b175e8feaf8"
      },
      "execution_count": null,
      "outputs": [
        {
          "output_type": "stream",
          "name": "stdout",
          "text": [
            "Mounted at /content/drive/\n"
          ]
        }
      ]
    },
    {
      "cell_type": "markdown",
      "source": [
        "# Gradient descent"
      ],
      "metadata": {
        "id": "KCff6KqE2-1O"
      }
    },
    {
      "cell_type": "code",
      "source": [
        "def readData(pathfolder: str, filename: str):\n",
        "  data=np.loadtxt(os.path.join(pathfolder, filename),delimiter=',')\n",
        "  return data"
      ],
      "metadata": {
        "id": "jlWqPMUs3Y_x"
      },
      "execution_count": null,
      "outputs": []
    },
    {
      "cell_type": "code",
      "source": [
        "def scaling_minmax_norm(data):\n",
        "  scaler =MinMaxScaler()\n",
        "  #Phải thực hiện thao tác fit(data) trước khi điều chỉnh dữ liệu\n",
        "  scaler.fit(data)\n",
        "  #Thực hiện điều chỉnh dữ liệu\n",
        "  data = scaler.transform(data)\n",
        "  # Lấy ra tập X và y\n",
        "  X_scl, y_scl = data[:,:-1], data[:,-1]\n",
        "  m=X_scl.shape[0]\n",
        "  X_scl=np.hstack((np.ones((m,1)),X_scl))\n",
        "  y_scl=y_scl.reshape((m,1))\n",
        "  return X_scl,y_scl\n",
        "  "
      ],
      "metadata": {
        "id": "FLHjEj5T5b1q"
      },
      "execution_count": null,
      "outputs": []
    },
    {
      "cell_type": "code",
      "source": [
        "def split_data(X,y):\n",
        "  X_train, X_test, y_train, y_test = train_test_split(X, y,test_size=0.30, random_state=15)\n",
        "  y_train = np.reshape(y_train, (y_train.shape[0], 1))\n",
        "  y_test = np.reshape(y_test, (y_test.shape[0], 1))\n",
        "  return X_train, X_test, y_train, y_test"
      ],
      "metadata": {
        "id": "WU8TjjuV5gye"
      },
      "execution_count": null,
      "outputs": []
    },
    {
      "cell_type": "code",
      "source": [
        "def loss(w, X, y):\n",
        "  m=y.shape[0]\n",
        "  h=np.dot(X,w)\n",
        "  J=(1/(2*m))*np.sum(np.square(h-y))\n",
        "  return J"
      ],
      "metadata": {
        "id": "UZx1TIQq3YqR"
      },
      "execution_count": null,
      "outputs": []
    },
    {
      "cell_type": "code",
      "source": [
        "def minimize_scipy(X,y,w,n_iters):\n",
        "    result = optimize.minimize(fun=loss, x0=w, args=(X,y),method='TNC',options={\"maxiter\":n_iters} )\n",
        "    w_optimal = result.x\n",
        "    J_optimal = result.fun\n",
        "    return w_optimal, J_optimal"
      ],
      "metadata": {
        "id": "JWGD_kMFtyML"
      },
      "execution_count": null,
      "outputs": []
    },
    {
      "cell_type": "code",
      "source": [
        "def train_model(X_train,X_test,y_train,y_test):\n",
        "  #Xác định k-fold\n",
        "  kf = KFold(n_splits=10)\n",
        "  #Huấn luyện mô hình\n",
        "  print('Huấn luyện mô hình TNC với k-fold')\n",
        "  n=1500\n",
        "  step = 0\n",
        "  for train2_index, val_index in kf.split(X = X_train,y = y_train):\n",
        "    step = step + 1\n",
        "    print('\\tBước lặp huấn luyện thứ: ', step)\n",
        "    n=X_train.shape[1]\n",
        "    w_opt = np.zeros([n, 1]).reshape([n,1])\n",
        "    X_train2, X_val = X_train[train2_index], X_train[val_index]\n",
        "    y_train2, y_val = y_train[train2_index], y_train[val_index]\n",
        "    w_opt,j =  minimize_scipy(X_train2,y_train2,w_opt,n)\n",
        "    print('\\t\\tĐánh giá mô hình trên tập dữ liệu validation')\n",
        "    y_hat = np.dot(X_val,w_opt)\n",
        "    print('\\t\\t\\tMSE: ', mean_squared_error(y_val, y_hat))\n",
        "  # Kiểm định mô hình với tập dữ liệu test\n",
        "  print('ĐÁNH GIÁ HIỆU NĂNG CỦA MÔ HÌNH TRÊN TẬP DỮ LIỆU TEST')\n",
        "  y_hat = np.dot(X_test,w_opt)\n",
        "  print('\\tMSE: ', mean_squared_error(y_test, y_hat))\n"
      ],
      "metadata": {
        "id": "Iym5s50x9b9d"
      },
      "execution_count": null,
      "outputs": []
    },
    {
      "cell_type": "markdown",
      "source": [
        "# Linear Regression, Ridge, Lasso"
      ],
      "metadata": {
        "id": "seekiQIn3Cj-"
      }
    },
    {
      "cell_type": "code",
      "source": [
        "def train_model(X_train,X_test,y_train,y_test):\n",
        "  #Xác định k-fold\n",
        "  kf = KFold(n_splits=10)\n",
        "  #Huấn luyện mô hình\n",
        "  print('Huấn luyện mô hình Ridge với k-fold')\n",
        "  model = Ridge() # Thay LinearRegression  hoặc Lasso\n",
        "  step = 0\n",
        "  for train2_index, val_index in kf.split(X = X_train,y = y_train):\n",
        "    step = step + 1\n",
        "    print('\\tBước lặp huấn luyện thứ: ', step)\n",
        "    w_opt = np.zeros((X_train.shape[1], 1))\n",
        "    X_train2, X_val = X_train[train2_index], X_train[val_index]\n",
        "    y_train2, y_val = y_train[train2_index], y_train[val_index]\n",
        "    model.fit(X_train2, y_train2)\n",
        "    print('\\t\\tĐánh giá mô hình trên tập dữ liệu validation')\n",
        "    y_hat = model.predict(X_val)\n",
        "    print('\\t\\t\\tMSE: ', mean_squared_error(y_val, y_hat))\n",
        "  # Kiểm định mô hình với tập dữ liệu test\n",
        "  print('ĐÁNH GIÁ HIỆU NĂNG CỦA MÔ HÌNH TRÊN TẬP DỮ LIỆU TEST')\n",
        "  y_hat = model.predict(X_test)\n",
        "  print('\\tMSE: ', mean_squared_error(y_test, y_hat))\n",
        "  return model.coef_\n"
      ],
      "metadata": {
        "id": "I5oDjrIE8YLx"
      },
      "execution_count": null,
      "outputs": []
    },
    {
      "cell_type": "code",
      "source": [
        "def main(pathfolder: str, filename: str):\n",
        "  data=readData(pathfolder, filename)\n",
        "  X_scl, y_scl=scaling_minmax_norm(data)\n",
        "  X_train, X_test, y_train, y_test=split_data(X_scl, y_scl)\n",
        "  a=train_model(X_train, X_test, y_train, y_test)\n",
        "  print(\"Bộ trọng số w: \",a)\n",
        "if __name__ == \"__main__\":\n",
        "  main('/content/drive/MyDrive/Data/data/','ex1data2.txt')"
      ],
      "metadata": {
        "colab": {
          "base_uri": "https://localhost:8080/"
        },
        "id": "1CuPgioY3jM6",
        "outputId": "84ab6cf0-697c-4b98-85a0-2468bc36b100"
      },
      "execution_count": 27,
      "outputs": [
        {
          "output_type": "stream",
          "name": "stdout",
          "text": [
            "Huấn luyện mô hình Ridge với k-fold\n",
            "\tBước lặp huấn luyện thứ:  1\n",
            "\t\tĐánh giá mô hình trên tập dữ liệu validation\n",
            "\t\t\tMSE:  0.007342095872437096\n",
            "\tBước lặp huấn luyện thứ:  2\n",
            "\t\tĐánh giá mô hình trên tập dữ liệu validation\n",
            "\t\t\tMSE:  0.014049333078351068\n",
            "\tBước lặp huấn luyện thứ:  3\n",
            "\t\tĐánh giá mô hình trên tập dữ liệu validation\n",
            "\t\t\tMSE:  0.04428852697107722\n",
            "\tBước lặp huấn luyện thứ:  4\n",
            "\t\tĐánh giá mô hình trên tập dữ liệu validation\n",
            "\t\t\tMSE:  0.05069037283758421\n",
            "\tBước lặp huấn luyện thứ:  5\n",
            "\t\tĐánh giá mô hình trên tập dữ liệu validation\n",
            "\t\t\tMSE:  0.028517646668885285\n",
            "\tBước lặp huấn luyện thứ:  6\n",
            "\t\tĐánh giá mô hình trên tập dữ liệu validation\n",
            "\t\t\tMSE:  0.03465955433033329\n",
            "\tBước lặp huấn luyện thứ:  7\n",
            "\t\tĐánh giá mô hình trên tập dữ liệu validation\n",
            "\t\t\tMSE:  0.022081137144973808\n",
            "\tBước lặp huấn luyện thứ:  8\n",
            "\t\tĐánh giá mô hình trên tập dữ liệu validation\n",
            "\t\t\tMSE:  0.014284963922507813\n",
            "\tBước lặp huấn luyện thứ:  9\n",
            "\t\tĐánh giá mô hình trên tập dữ liệu validation\n",
            "\t\t\tMSE:  0.0437355963026947\n",
            "\tBước lặp huấn luyện thứ:  10\n",
            "\t\tĐánh giá mô hình trên tập dữ liệu validation\n",
            "\t\t\tMSE:  0.0111475992970004\n",
            "ĐÁNH GIÁ HIỆU NĂNG CỦA MÔ HÌNH TRÊN TẬP DỮ LIỆU TEST\n",
            "\tMSE:  0.02099182133471009\n",
            "Bộ trọng số w:  [[0.         0.50920005 0.17200882]]\n"
          ]
        }
      ]
    }
  ]
}
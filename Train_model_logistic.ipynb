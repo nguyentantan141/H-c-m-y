{
  "nbformat": 4,
  "nbformat_minor": 0,
  "metadata": {
    "colab": {
      "provenance": [],
      "authorship_tag": "ABX9TyNigj/+VQar1OwNaBLXb8DF",
      "include_colab_link": true
    },
    "kernelspec": {
      "name": "python3",
      "display_name": "Python 3"
    },
    "language_info": {
      "name": "python"
    }
  },
  "cells": [
    {
      "cell_type": "markdown",
      "metadata": {
        "id": "view-in-github",
        "colab_type": "text"
      },
      "source": [
        "<a href=\"https://colab.research.google.com/github/nguyentantan141/MACHINE-LEARNING/blob/Machine-learning/Train_model_logistic.ipynb\" target=\"_parent\"><img src=\"https://colab.research.google.com/assets/colab-badge.svg\" alt=\"Open In Colab\"/></a>"
      ]
    },
    {
      "cell_type": "code",
      "source": [
        "import numpy as np\n",
        "import os\n",
        "from sklearn.model_selection import train_test_split\n",
        "from sklearn.model_selection import KFold\n",
        "from sklearn.metrics import mean_squared_error\n",
        "from sklearn.preprocessing import MinMaxScaler\n",
        "from sklearn.linear_model import LogisticRegression"
      ],
      "metadata": {
        "id": "aiUIetXp1QGK"
      },
      "execution_count": 16,
      "outputs": []
    },
    {
      "cell_type": "code",
      "source": [
        "from google.colab import drive\n",
        "drive.mount ('/content/drive/')"
      ],
      "metadata": {
        "colab": {
          "base_uri": "https://localhost:8080/"
        },
        "id": "La9YGkQP3XnO",
        "outputId": "dcfd47b0-27b1-4aa1-82c9-4eac37a8411f"
      },
      "execution_count": 17,
      "outputs": [
        {
          "output_type": "stream",
          "name": "stdout",
          "text": [
            "Drive already mounted at /content/drive/; to attempt to forcibly remount, call drive.mount(\"/content/drive/\", force_remount=True).\n"
          ]
        }
      ]
    },
    {
      "cell_type": "markdown",
      "source": [
        "# Đọc dữ liệu"
      ],
      "metadata": {
        "id": "KCff6KqE2-1O"
      }
    },
    {
      "cell_type": "code",
      "source": [
        "def readData(pathfolder: str, filename: str):\n",
        "  data=np.loadtxt(os.path.join(pathfolder, filename),delimiter=',')\n",
        "  X,y=data[:,:-1],data[:,-1]\n",
        "  m=X.shape[0]\n",
        "  y=y.reshape([m,1])\n",
        "  return X,y"
      ],
      "metadata": {
        "id": "jlWqPMUs3Y_x"
      },
      "execution_count": 44,
      "outputs": []
    },
    {
      "cell_type": "code",
      "source": [
        "def scaling_minmax_norm(X):\n",
        "  scaler =MinMaxScaler()\n",
        "  #Phải thực hiện thao tác fit(data) trước khi điều chỉnh dữ liệu\n",
        "  scaler.fit(X)\n",
        "  #Thực hiện điều chỉnh dữ liệu\n",
        "  X = scaler.transform(X)\n",
        "  m=X.shape[0]\n",
        "  X_scl=np.hstack((np.ones((m,1)),X))\n",
        "  return X_scl\n",
        "  "
      ],
      "metadata": {
        "id": "FLHjEj5T5b1q"
      },
      "execution_count": 45,
      "outputs": []
    },
    {
      "cell_type": "code",
      "source": [
        "def split_data(X_scl,y):\n",
        "  X_train, X_test, y_train, y_test = train_test_split(X_scl, y,test_size=0.30, random_state=15)\n",
        "  y_train = np.reshape(y_train, (y_train.shape[0], 1))\n",
        "  y_test = np.reshape(y_test, (y_test.shape[0], 1))\n",
        "  return X_train, X_test, y_train, y_test"
      ],
      "metadata": {
        "id": "WU8TjjuV5gye"
      },
      "execution_count": 46,
      "outputs": []
    },
    {
      "cell_type": "markdown",
      "source": [
        "# Logistic "
      ],
      "metadata": {
        "id": "seekiQIn3Cj-"
      }
    },
    {
      "cell_type": "code",
      "source": [
        "def train_model(X_train,X_test,y_train,y_test):\n",
        "  #Xác định k-fold\n",
        "  kf = KFold(n_splits=10)\n",
        "  #Huấn luyện mô hình\n",
        "  print('Huấn luyện mô hình Logistic  với k-fold')\n",
        "  model = LogisticRegression(solver='sag') # Thay LinearRegression  hoặc Lasso\n",
        "  step = 0\n",
        "  for train2_index, val_index in kf.split(X = X_train,y = y_train):\n",
        "    step = step + 1\n",
        "    print('\\tBước lặp huấn luyện thứ: ', step)\n",
        "    w_opt = np.zeros((X_train.shape[1], 1))\n",
        "    X_train2, X_val = X_train[train2_index], X_train[val_index]\n",
        "    y_train2, y_val = y_train[train2_index], y_train[val_index]\n",
        "    model.fit(X_train2, y_train2)\n",
        "    print('\\t\\tĐánh giá mô hình trên tập dữ liệu validation')\n",
        "    y_hat = model.predict(X_val)\n",
        "    print('\\t\\t\\tMSE: ', mean_squared_error(y_val, y_hat))\n",
        "  # Kiểm định mô hình với tập dữ liệu test\n",
        "  print('ĐÁNH GIÁ HIỆU NĂNG CỦA MÔ HÌNH TRÊN TẬP DỮ LIỆU TEST')\n",
        "  y_hat = model.predict(X_test)\n",
        "  print('\\tMSE: ', mean_squared_error(y_test, y_hat))\n",
        "  return model.coef_\n"
      ],
      "metadata": {
        "id": "I5oDjrIE8YLx"
      },
      "execution_count": 47,
      "outputs": []
    },
    {
      "cell_type": "code",
      "source": [
        "def main(pathfolder: str, filename: str):\n",
        "  X,y=readData(pathfolder, filename)\n",
        "  X_scl=scaling_minmax_norm(X)\n",
        "  X_train, X_test, y_train, y_test=split_data(X_scl, y)\n",
        "  w=train_model(X_train, X_test, y_train, y_test)\n",
        "  print(\"Bộ trọng số w:\\n\",w)\n"
      ],
      "metadata": {
        "id": "1CuPgioY3jM6"
      },
      "execution_count": 48,
      "outputs": []
    },
    {
      "cell_type": "code",
      "source": [
        "if __name__ == '__main__':\n",
        "  main('/content/drive/MyDrive/Data/data/','ex2data1.txt')"
      ],
      "metadata": {
        "colab": {
          "base_uri": "https://localhost:8080/"
        },
        "id": "IeRSyRGD6L4n",
        "outputId": "484de6cf-1efc-462c-d3bc-04756ee7d430"
      },
      "execution_count": 49,
      "outputs": [
        {
          "output_type": "stream",
          "name": "stdout",
          "text": [
            "Huấn luyện mô hình Logistic  với k-fold\n",
            "\tBước lặp huấn luyện thứ:  1\n",
            "\t\tĐánh giá mô hình trên tập dữ liệu validation\n",
            "\t\t\tMSE:  0.14285714285714285\n",
            "\tBước lặp huấn luyện thứ:  2\n",
            "\t\tĐánh giá mô hình trên tập dữ liệu validation\n",
            "\t\t\tMSE:  0.2857142857142857\n",
            "\tBước lặp huấn luyện thứ:  3\n",
            "\t\tĐánh giá mô hình trên tập dữ liệu validation\n",
            "\t\t\tMSE:  0.14285714285714285\n",
            "\tBước lặp huấn luyện thứ:  4\n",
            "\t\tĐánh giá mô hình trên tập dữ liệu validation\n",
            "\t\t\tMSE:  0.2857142857142857\n",
            "\tBước lặp huấn luyện thứ:  5\n",
            "\t\tĐánh giá mô hình trên tập dữ liệu validation\n",
            "\t\t\tMSE:  0.0\n",
            "\tBước lặp huấn luyện thứ:  6\n",
            "\t\tĐánh giá mô hình trên tập dữ liệu validation\n",
            "\t\t\tMSE:  0.0\n",
            "\tBước lặp huấn luyện thứ:  7\n",
            "\t\tĐánh giá mô hình trên tập dữ liệu validation\n",
            "\t\t\tMSE:  0.14285714285714285\n",
            "\tBước lặp huấn luyện thứ:  8\n",
            "\t\tĐánh giá mô hình trên tập dữ liệu validation\n",
            "\t\t\tMSE:  0.14285714285714285\n",
            "\tBước lặp huấn luyện thứ:  9\n",
            "\t\tĐánh giá mô hình trên tập dữ liệu validation\n",
            "\t\t\tMSE:  0.0\n",
            "\tBước lặp huấn luyện thứ:  10\n",
            "\t\tĐánh giá mô hình trên tập dữ liệu validation\n",
            "\t\t\tMSE:  0.14285714285714285\n",
            "ĐÁNH GIÁ HIỆU NĂNG CỦA MÔ HÌNH TRÊN TẬP DỮ LIỆU TEST\n",
            "\tMSE:  0.06666666666666667\n",
            "Bộ trọng số w:\n",
            " [[-3.40766318e-05  2.32409384e+00  2.33581492e+00]]\n"
          ]
        },
        {
          "output_type": "stream",
          "name": "stderr",
          "text": [
            "/usr/local/lib/python3.7/dist-packages/sklearn/utils/validation.py:993: DataConversionWarning: A column-vector y was passed when a 1d array was expected. Please change the shape of y to (n_samples, ), for example using ravel().\n",
            "  y = column_or_1d(y, warn=True)\n",
            "/usr/local/lib/python3.7/dist-packages/sklearn/utils/validation.py:993: DataConversionWarning: A column-vector y was passed when a 1d array was expected. Please change the shape of y to (n_samples, ), for example using ravel().\n",
            "  y = column_or_1d(y, warn=True)\n",
            "/usr/local/lib/python3.7/dist-packages/sklearn/utils/validation.py:993: DataConversionWarning: A column-vector y was passed when a 1d array was expected. Please change the shape of y to (n_samples, ), for example using ravel().\n",
            "  y = column_or_1d(y, warn=True)\n",
            "/usr/local/lib/python3.7/dist-packages/sklearn/utils/validation.py:993: DataConversionWarning: A column-vector y was passed when a 1d array was expected. Please change the shape of y to (n_samples, ), for example using ravel().\n",
            "  y = column_or_1d(y, warn=True)\n",
            "/usr/local/lib/python3.7/dist-packages/sklearn/utils/validation.py:993: DataConversionWarning: A column-vector y was passed when a 1d array was expected. Please change the shape of y to (n_samples, ), for example using ravel().\n",
            "  y = column_or_1d(y, warn=True)\n",
            "/usr/local/lib/python3.7/dist-packages/sklearn/utils/validation.py:993: DataConversionWarning: A column-vector y was passed when a 1d array was expected. Please change the shape of y to (n_samples, ), for example using ravel().\n",
            "  y = column_or_1d(y, warn=True)\n",
            "/usr/local/lib/python3.7/dist-packages/sklearn/utils/validation.py:993: DataConversionWarning: A column-vector y was passed when a 1d array was expected. Please change the shape of y to (n_samples, ), for example using ravel().\n",
            "  y = column_or_1d(y, warn=True)\n",
            "/usr/local/lib/python3.7/dist-packages/sklearn/utils/validation.py:993: DataConversionWarning: A column-vector y was passed when a 1d array was expected. Please change the shape of y to (n_samples, ), for example using ravel().\n",
            "  y = column_or_1d(y, warn=True)\n",
            "/usr/local/lib/python3.7/dist-packages/sklearn/utils/validation.py:993: DataConversionWarning: A column-vector y was passed when a 1d array was expected. Please change the shape of y to (n_samples, ), for example using ravel().\n",
            "  y = column_or_1d(y, warn=True)\n",
            "/usr/local/lib/python3.7/dist-packages/sklearn/utils/validation.py:993: DataConversionWarning: A column-vector y was passed when a 1d array was expected. Please change the shape of y to (n_samples, ), for example using ravel().\n",
            "  y = column_or_1d(y, warn=True)\n"
          ]
        }
      ]
    }
  ]
}
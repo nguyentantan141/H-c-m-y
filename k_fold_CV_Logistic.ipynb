{
  "nbformat": 4,
  "nbformat_minor": 0,
  "metadata": {
    "colab": {
      "provenance": [],
      "authorship_tag": "ABX9TyP5z5Okock6pVKxVmbDRpOp",
      "include_colab_link": true
    },
    "kernelspec": {
      "name": "python3",
      "display_name": "Python 3"
    },
    "language_info": {
      "name": "python"
    }
  },
  "cells": [
    {
      "cell_type": "markdown",
      "metadata": {
        "id": "view-in-github",
        "colab_type": "text"
      },
      "source": [
        "<a href=\"https://colab.research.google.com/github/nguyentantan141/MACHINE-LEARNING/blob/Machine-learning/k_fold_CV_Logistic.ipynb\" target=\"_parent\"><img src=\"https://colab.research.google.com/assets/colab-badge.svg\" alt=\"Open In Colab\"/></a>"
      ]
    },
    {
      "cell_type": "code",
      "execution_count": 77,
      "metadata": {
        "id": "DdMR8dnRuAlT"
      },
      "outputs": [],
      "source": [
        "import numpy as np\n",
        "import os\n",
        "from sklearn import preprocessing\n",
        "from sklearn.linear_model import LogisticRegression\n",
        "from sklearn.model_selection import train_test_split\n",
        "from sklearn.model_selection import GridSearchCV\n",
        "from sklearn.model_selection import cross_val_score\n",
        "from sklearn.model_selection import cross_val_predict\n",
        "from sklearn.metrics import accuracy_score\n",
        "from sklearn.preprocessing import MinMaxScaler\n",
        "from sklearn.model_selection import ShuffleSplit"
      ]
    },
    {
      "cell_type": "code",
      "source": [
        "from google.colab import drive\n",
        "drive.mount ('/content/drive')"
      ],
      "metadata": {
        "colab": {
          "base_uri": "https://localhost:8080/"
        },
        "id": "deTBPLgjvpOc",
        "outputId": "65f45ee3-a8ed-4603-87a5-2605b629e024"
      },
      "execution_count": 59,
      "outputs": [
        {
          "output_type": "stream",
          "name": "stdout",
          "text": [
            "Drive already mounted at /content/drive; to attempt to forcibly remount, call drive.mount(\"/content/drive\", force_remount=True).\n"
          ]
        }
      ]
    },
    {
      "cell_type": "markdown",
      "source": [
        "# Đọc dữ liệu"
      ],
      "metadata": {
        "id": "fNm8O8fWGreY"
      }
    },
    {
      "cell_type": "code",
      "source": [
        "def readData(pathfolder: str, filename: str):\n",
        "  data=np.loadtxt(os.path.join(pathfolder, filename),delimiter=',')\n",
        "  X, y = data[:,:-1], data[:, -1]\n",
        "  return X, y"
      ],
      "metadata": {
        "id": "mqP2fKmyvrJk"
      },
      "execution_count": 60,
      "outputs": []
    },
    {
      "cell_type": "code",
      "source": [
        "def scaling_minmax_norm(X):\n",
        "  scaler =MinMaxScaler()\n",
        "  #Phải thực hiện thao tác fit(data) trước khi điều chỉnh dữ liệu\n",
        "  scaler.fit(X)\n",
        "  #Thực hiện điều chỉnh dữ liệu\n",
        "  X = scaler.transform(X)\n",
        "  m=X.shape[0]\n",
        "  X_scl=np.hstack((np.ones((m,1)),X))\n",
        "  return X_scl\n",
        "  "
      ],
      "metadata": {
        "id": "VfB5h5Uav5Ps"
      },
      "execution_count": 61,
      "outputs": []
    },
    {
      "cell_type": "code",
      "source": [
        "def split_data(X_scl,y):\n",
        "  X_train, X_test, y_train, y_test = train_test_split(X_scl, y,test_size=0.30, random_state=15)\n",
        "  return X_train, X_test, y_train, y_test"
      ],
      "metadata": {
        "id": "Cuo2iIgjv7LI"
      },
      "execution_count": 62,
      "outputs": []
    },
    {
      "cell_type": "markdown",
      "source": [
        "# Huấn luyện mô hình"
      ],
      "metadata": {
        "id": "TELdVZy1GvMO"
      }
    },
    {
      "cell_type": "code",
      "source": [
        "def train_model(X_train,X_test,y_train,y_test):\n",
        "  #Huấn luyện mô hình\n",
        "  #Số lượng k-fold được xác định tùy thuộc vào số lượng y_train\n",
        "  unique, counts = np.unique(y_train, return_counts=True)\n",
        "  result = dict(zip(unique, counts))\n",
        "  print(result)\n",
        "  print('Huấn luyện mô hình Logistic  với  10_fold_cv: ')\n",
        "  model = LogisticRegression(solver='liblinear',max_iter=1500,\n",
        "                             multi_class='auto') # Thay thế solver với các thuật toán tương tự: lbfgs, sag, saga,.. \n",
        "  cv=ShuffleSplit(n_splits=10, test_size=0.2, random_state=15)\n",
        "  scores=cross_val_score(model, X_train, y_train,cv=cv,scoring='accuracy') # thay thế các chỉ số tương tự: balanced_accuracy, top_k_accuracy.\n",
        "  y_hat=cross_val_predict(model, X_train, y_train,cv=10)\n",
        "  #Tìm bộ tham số tối ưu cho mô hình bằng GridsearchCV\n",
        "  #Đặc tả 10-fold cv với k = 10\n",
        "  parameters = {'C':[1, 10, 20, 50]}\n",
        "  cv = GridSearchCV(model, parameters, cv=10)\n",
        "\n",
        "  #Huấn luyện mô hình và lấy kết quả tối ưu\n",
        "  cv.fit(X_train, y_train)\n",
        "  #Thông báo kết quả tối ưu\n",
        "  print('Kết quả huấn luyên 10-fold cv')\n",
        "  print('\\t', cv.best_params_)\n",
        "\n",
        "  #Tạo mô hình LogisticRegression với best params\n",
        "  model.set_params(**cv.best_params_)\n",
        "  model.fit(X_train, y_train)\n",
        "  y_hat = cv.predict(X_test)\n",
        "\n",
        "  #Bước 9 đánh giá hiệu năng mô hình\n",
        "  print('Hiệu năng mô hình acc: ', accuracy_score(y_hat, y_test))\n",
        "\n",
        "  return scores, y_hat\n",
        "  \n"
      ],
      "metadata": {
        "id": "B4SPFioDwLK9"
      },
      "execution_count": 83,
      "outputs": []
    },
    {
      "cell_type": "markdown",
      "source": [
        "# Sử dụng hàm cross_val_score chỉ trả về độ chính xác của mô hình, cross_val_predict chỉ trả về kết quả dự đoán của tập X_test truyền vào. Hai hàm này không trả được mô hình chúng ta muốn tìm"
      ],
      "metadata": {
        "id": "W5GeYQyvGyuv"
      }
    },
    {
      "cell_type": "code",
      "source": [
        "def main(pathfolder: str, filename: str):\n",
        "  X,y=readData(pathfolder, filename)\n",
        "  X_scl=scaling_minmax_norm(X)\n",
        "  X_train, X_test, y_train, y_test=split_data(X_scl, y)\n",
        "  scores,y_hat=train_model(X_train, X_test, y_train, y_test)\n",
        "  print(\"scores:\\n\",scores)\n",
        "  print(\"y_hat:\\n\",y_hat)\n",
        "  \n",
        "if __name__ == '__main__':\n",
        "  main('/content/drive/MyDrive/Data/data/','ex2data2.txt')"
      ],
      "metadata": {
        "colab": {
          "base_uri": "https://localhost:8080/"
        },
        "id": "VQtCrYywCJRh",
        "outputId": "df557780-c17b-4cc2-d133-820ef60813e6"
      },
      "execution_count": 82,
      "outputs": [
        {
          "output_type": "stream",
          "name": "stdout",
          "text": [
            "{0.0: 41, 1.0: 41}\n",
            "Huấn luyện mô hình Logistic  với  10_fold_cv: \n",
            "Kết quả huấn luyên 10-fold cv\n",
            "\t {'C': 1}\n",
            "Hiệu năng mô hình acc:  0.5\n",
            "scores:\n",
            " [0.41176471 0.29411765 0.47058824 0.52941176 0.52941176 0.52941176\n",
            " 0.47058824 0.41176471 0.41176471 0.35294118]\n",
            "y_hat:\n",
            " [0. 1. 0. 0. 0. 0. 1. 1. 1. 0. 1. 1. 1. 1. 1. 0. 0. 0. 1. 1. 0. 0. 1. 0.\n",
            " 0. 1. 0. 1. 1. 0. 1. 1. 1. 0. 1. 0.]\n"
          ]
        }
      ]
    }
  ]
}
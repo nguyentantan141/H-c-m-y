{
  "nbformat": 4,
  "nbformat_minor": 0,
  "metadata": {
    "colab": {
      "provenance": [],
      "authorship_tag": "ABX9TyMZCmRV1z0BsxJTkhFkH9NB",
      "include_colab_link": true
    },
    "kernelspec": {
      "name": "python3",
      "display_name": "Python 3"
    },
    "language_info": {
      "name": "python"
    }
  },
  "cells": [
    {
      "cell_type": "markdown",
      "metadata": {
        "id": "view-in-github",
        "colab_type": "text"
      },
      "source": [
        "<a href=\"https://colab.research.google.com/github/nguyentantan141/MACHINE-LEARNING/blob/Machine-learning/%C4%90%E1%BB%8Dc_d%E1%BB%AF_li%E1%BB%87u_t%E1%BB%AB_t%E1%BA%ADp_tin.ipynb\" target=\"_parent\"><img src=\"https://colab.research.google.com/assets/colab-badge.svg\" alt=\"Open In Colab\"/></a>"
      ]
    },
    {
      "cell_type": "markdown",
      "source": [
        "#Thư viện"
      ],
      "metadata": {
        "id": "pYnxxNNexreA"
      }
    },
    {
      "cell_type": "code",
      "source": [
        "import numpy as np\n",
        "import os"
      ],
      "metadata": {
        "id": "IfbK0C21xZi5"
      },
      "execution_count": 1,
      "outputs": []
    },
    {
      "cell_type": "code",
      "execution_count": 2,
      "metadata": {
        "colab": {
          "base_uri": "https://localhost:8080/"
        },
        "id": "9WW_1Jm_xCBF",
        "outputId": "b3856df6-c4aa-4a54-870c-e010e69664ad"
      },
      "outputs": [
        {
          "output_type": "stream",
          "name": "stdout",
          "text": [
            "Mounted at /content/drive/\n"
          ]
        }
      ],
      "source": [
        "from google.colab import drive\n",
        "drive.mount('/content/drive/')"
      ]
    },
    {
      "cell_type": "markdown",
      "source": [
        "#Đọc dữ liệu từ tập tin"
      ],
      "metadata": {
        "id": "b7VvpHF8xzBM"
      }
    },
    {
      "cell_type": "code",
      "source": [
        "def readData(folder,filename): \n",
        "  data=np.loadtxt(os.path.join(folder,filename),delimiter=',')\n",
        "  X=data[:,0]\n",
        "  y=data[:,1]\n",
        "  m=X.shape[0]\n",
        "  X=np.stack([np.ones(m),X],axis=1)\n",
        "  return X,y"
      ],
      "metadata": {
        "id": "e6BoAGDLxkD7"
      },
      "execution_count": 3,
      "outputs": []
    },
    {
      "cell_type": "code",
      "source": [
        "X,y=readData('/content/drive/MyDrive/Data/data/','ex1data1.txt')\n"
      ],
      "metadata": {
        "id": "eL37ieEIxl4k"
      },
      "execution_count": 4,
      "outputs": []
    }
  ]
}
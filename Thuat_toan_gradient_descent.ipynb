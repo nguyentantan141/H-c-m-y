{
  "nbformat": 4,
  "nbformat_minor": 0,
  "metadata": {
    "colab": {
      "provenance": [],
      "collapsed_sections": [],
      "authorship_tag": "ABX9TyMh6MvuvFRV0FxvpYIkIMfK",
      "include_colab_link": true
    },
    "kernelspec": {
      "name": "python3",
      "display_name": "Python 3"
    },
    "language_info": {
      "name": "python"
    }
  },
  "cells": [
    {
      "cell_type": "markdown",
      "metadata": {
        "id": "view-in-github",
        "colab_type": "text"
      },
      "source": [
        "<a href=\"https://colab.research.google.com/github/nguyentantan141/MACHINE-LEARNING/blob/Machine-learning/Thuat_toan_gradient_descent.ipynb\" target=\"_parent\"><img src=\"https://colab.research.google.com/assets/colab-badge.svg\" alt=\"Open In Colab\"/></a>"
      ]
    },
    {
      "cell_type": "markdown",
      "source": [
        "# Thư viện sử dụng"
      ],
      "metadata": {
        "id": "jhZeymIBN6RL"
      }
    },
    {
      "cell_type": "code",
      "execution_count": 1,
      "metadata": {
        "id": "uzXj9oI-MH38"
      },
      "outputs": [],
      "source": [
        "import numpy as np\n",
        "import os"
      ]
    },
    {
      "cell_type": "code",
      "source": [
        "from google.colab import drive\n",
        "drive.mount('/content/drive/')"
      ],
      "metadata": {
        "colab": {
          "base_uri": "https://localhost:8080/"
        },
        "id": "OE-1iu9LOFiF",
        "outputId": "6be60016-447b-4c77-89e4-826eed630639"
      },
      "execution_count": 2,
      "outputs": [
        {
          "output_type": "stream",
          "name": "stdout",
          "text": [
            "Mounted at /content/drive/\n"
          ]
        }
      ]
    },
    {
      "cell_type": "markdown",
      "source": [
        "# Đọc dữ liệu"
      ],
      "metadata": {
        "id": "WyN-mSeLOmwJ"
      }
    },
    {
      "cell_type": "code",
      "source": [
        "def readData(folder,filename): \n",
        "  data=np.loadtxt(os.path.join(folder,filename),delimiter=',')\n",
        "  X=data[:,0]\n",
        "  y=data[:,1]\n",
        "  m=X.shape[0]\n",
        "  X=np.stack([np.ones(m),X],axis=1)\n",
        "  return X,y"
      ],
      "metadata": {
        "id": "RhtgEfk9Oq6d"
      },
      "execution_count": 3,
      "outputs": []
    },
    {
      "cell_type": "code",
      "source": [
        "X,y=readData('/content/drive/MyDrive/Data/data/','ex1data1.txt')\n",
        "w=np.zeros(2)"
      ],
      "metadata": {
        "id": "mT0fKRjJO_NZ"
      },
      "execution_count": 6,
      "outputs": []
    },
    {
      "cell_type": "markdown",
      "source": [
        "#  Lost function"
      ],
      "metadata": {
        "id": "9rCz8HQ0Zb40"
      }
    },
    {
      "cell_type": "code",
      "source": [
        "def calculateLoss(X, y, w):\n",
        "  m=y.shape[0]\n",
        "  h=np.dot(X,w)\n",
        "  J=(1/(2*m))*np.sum(np.square(h-y))\n",
        "  return J"
      ],
      "metadata": {
        "id": "DsVPjbLQRnWG"
      },
      "execution_count": 7,
      "outputs": []
    },
    {
      "cell_type": "markdown",
      "source": [
        "# Tính gradient descent\n"
      ],
      "metadata": {
        "id": "54GDlq6WartT"
      }
    },
    {
      "cell_type": "code",
      "source": [
        "def gradientDescent(X,y,w,alpha,n):\n",
        "  m=y.shape[0]\n",
        "  J_history=[]\n",
        "  w_optional=w.copy()\n",
        "  for i in range(n):\n",
        "    w_optional=w_optional-(alpha/m)*(np.dot(X,w_optional)-y).dot(X)\n",
        "    J_history.append(calculateLoss(X,y,w_optional))\n",
        "  return w_optional,J_history\n",
        "\n"
      ],
      "metadata": {
        "id": "omtlmZ2_TPwo"
      },
      "execution_count": 8,
      "outputs": []
    },
    {
      "cell_type": "code",
      "source": [
        "def main():\n",
        "  alpha=0.01\n",
        "  w=np.zeros(2)\n",
        "  n=1500\n",
        "  X,y=readData('/content/drive/MyDrive/Data/data/','ex1data1.txt')\n",
        "  w,J_hist=gradientDescent(X,y,w,alpha,n)\n",
        "  print('Optional weight',w)\n",
        "  print('Loss at optional point: ', J_hist[-1])\n",
        "  \n"
      ],
      "metadata": {
        "id": "wwfAHwn3cXYM"
      },
      "execution_count": 9,
      "outputs": []
    },
    {
      "cell_type": "code",
      "source": [
        "main()"
      ],
      "metadata": {
        "colab": {
          "base_uri": "https://localhost:8080/"
        },
        "id": "ExVkef6AcjhU",
        "outputId": "98e35feb-56c7-4ea9-b22c-4289e6834c9e"
      },
      "execution_count": 10,
      "outputs": [
        {
          "output_type": "stream",
          "name": "stdout",
          "text": [
            "Optional weight [-3.63029144  1.16636235]\n",
            "Loss at optional point:  4.483388256587725\n"
          ]
        }
      ]
    }
  ]
}
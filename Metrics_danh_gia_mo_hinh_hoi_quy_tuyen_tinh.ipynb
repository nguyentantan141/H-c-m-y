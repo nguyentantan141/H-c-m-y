{
  "nbformat": 4,
  "nbformat_minor": 0,
  "metadata": {
    "colab": {
      "provenance": [],
      "collapsed_sections": [
        "k83De44tdkEh"
      ],
      "authorship_tag": "ABX9TyNeasjkI2MRQAejJv2DdXlG",
      "include_colab_link": true
    },
    "kernelspec": {
      "name": "python3",
      "display_name": "Python 3"
    },
    "language_info": {
      "name": "python"
    }
  },
  "cells": [
    {
      "cell_type": "markdown",
      "metadata": {
        "id": "view-in-github",
        "colab_type": "text"
      },
      "source": [
        "<a href=\"https://colab.research.google.com/github/nguyentantan141/MACHINE-LEARNING/blob/Machine-learning/Metrics_danh_gia_mo_hinh_hoi_quy_tuyen_tinh.ipynb\" target=\"_parent\"><img src=\"https://colab.research.google.com/assets/colab-badge.svg\" alt=\"Open In Colab\"/></a>"
      ]
    },
    {
      "cell_type": "code",
      "execution_count": 14,
      "metadata": {
        "id": "yOtLDSG05sfU"
      },
      "outputs": [],
      "source": [
        "import numpy as np\n",
        "import os\n",
        "from sklearn import preprocessing\n",
        "from sklearn.model_selection import train_test_split\n",
        "from sklearn.linear_model import LinearRegression"
      ]
    },
    {
      "cell_type": "code",
      "source": [
        "from google.colab import drive\n",
        "drive.mount ('/content/drive/')"
      ],
      "metadata": {
        "colab": {
          "base_uri": "https://localhost:8080/"
        },
        "id": "LrdVBGCefrvJ",
        "outputId": "f341d0b8-88a4-4e0d-98c5-3fe801118410"
      },
      "execution_count": 12,
      "outputs": [
        {
          "output_type": "stream",
          "name": "stdout",
          "text": [
            "Mounted at /content/drive/\n"
          ]
        }
      ]
    },
    {
      "cell_type": "markdown",
      "source": [
        "#Đọc dữ liệu"
      ],
      "metadata": {
        "id": "qHxSOKMAd0si"
      }
    },
    {
      "cell_type": "code",
      "source": [
        "def readData(pathfolder: str, filename: str):\n",
        "  data=np.loadtxt(os.path.join(pathfolder, filename),delimiter=',')\n",
        "  return data\n"
      ],
      "metadata": {
        "id": "RwqLHaP6d3Qp"
      },
      "execution_count": 37,
      "outputs": []
    },
    {
      "cell_type": "markdown",
      "source": [
        "#Chuẩn hóa dữ liệu"
      ],
      "metadata": {
        "id": "wPZ0yWB4kOCZ"
      }
    },
    {
      "cell_type": "code",
      "source": [
        "\n",
        "def scaling_minmax_norm(data):\n",
        "  scaler = preprocessing.MinMaxScaler()\n",
        "  #Phải thực hiện thao tác fit(data) trước khi điều chỉnh dữ liệu\n",
        "  scaler.fit(data)\n",
        "  #Thực hiện điều chỉnh dữ liệu\n",
        "  data = scaler.transform(data)\n",
        "  # Lấy ra tập X và y\n",
        "  X_scl, y_scl = data[:,:-1], data[:,-1]\n",
        "  m=X_scl.shape[0]\n",
        "  X_scl=np.hstack((np.ones((m,1)),X_scl))\n",
        "  y_scl=y_scl.reshape((m,1))\n",
        "  return X_scl,y_scl\n",
        "  "
      ],
      "metadata": {
        "id": "C54u2uKteZNm"
      },
      "execution_count": 38,
      "outputs": []
    },
    {
      "cell_type": "markdown",
      "source": [
        "# Phân chia dữ liệu"
      ],
      "metadata": {
        "id": "GQLtPwq-ke6p"
      }
    },
    {
      "cell_type": "code",
      "source": [
        "def split_data(X,y):\n",
        "  X_train, X_test, y_train, y_test = train_test_split(X, y,test_size=0.30, random_state=15)\n",
        "  y_train = np.reshape(y_train, (y_train.shape[0], 1))\n",
        "  y_test = np.reshape(y_test, (y_test.shape[0], 1))\n",
        "  return X_train, X_test, y_train, y_test"
      ],
      "metadata": {
        "id": "dntxWK6pknfO"
      },
      "execution_count": 39,
      "outputs": []
    },
    {
      "cell_type": "markdown",
      "source": [
        "# Linear Regression"
      ],
      "metadata": {
        "id": "TvLl1WQ4d3t6"
      }
    },
    {
      "cell_type": "code",
      "source": [
        "def lr(X,y):\n",
        "  model = LinearRegression()\n",
        "  #Huấn luyện mô hình với tập dữ liệu X, y\n",
        "  model.fit(X,y)\n",
        "  #Bộ trọng số tối ưu:\n",
        "  return model.coef_"
      ],
      "metadata": {
        "id": "8V8T0jbYeZ6d"
      },
      "execution_count": 52,
      "outputs": []
    },
    {
      "cell_type": "markdown",
      "source": [
        "# Các độ đo"
      ],
      "metadata": {
        "id": "k83De44tdkEh"
      }
    },
    {
      "cell_type": "markdown",
      "source": [
        "## Độ đo MSE"
      ],
      "metadata": {
        "id": "-9dPDhKhHY-_"
      }
    },
    {
      "cell_type": "code",
      "source": [
        "def mse(y, y_hat): \n",
        " m = y.shape[0] \n",
        " result =  (1/m)*np.sum(np.square(y - y_hat))  \n",
        " return result\n"
      ],
      "metadata": {
        "id": "ibJKDopLHhrz"
      },
      "execution_count": 42,
      "outputs": []
    },
    {
      "cell_type": "code",
      "source": [
        "from sklearn.metrics import  mean_squared_error \n"
      ],
      "metadata": {
        "id": "AtcqXlVyVWkQ"
      },
      "execution_count": 43,
      "outputs": []
    },
    {
      "cell_type": "markdown",
      "source": [
        "## Độ đo $R^{2}$"
      ],
      "metadata": {
        "id": "gHyNew3vJwAH"
      }
    },
    {
      "cell_type": "code",
      "source": [
        "def r2(y,y_hat):\n",
        "  m=y.shape[0]\n",
        "  y_avg=np.mean(y)\n",
        "  result=1-np.sum(np.square(y-y_hat))/np.sum(np.square(y-y_avg))\n",
        "  return result "
      ],
      "metadata": {
        "id": "C0OpqrkqJ33B"
      },
      "execution_count": 44,
      "outputs": []
    },
    {
      "cell_type": "code",
      "source": [
        "from sklearn.metrics import r2_score\n"
      ],
      "metadata": {
        "id": "GdYh-ydxXWP6"
      },
      "execution_count": 45,
      "outputs": []
    },
    {
      "cell_type": "markdown",
      "source": [
        "## Độ đo MAE"
      ],
      "metadata": {
        "id": "ttrpfg5JLRiN"
      }
    },
    {
      "cell_type": "code",
      "source": [
        "def mae(y,y_hat):\n",
        "  m=y.shape[0]\n",
        "  result=(1/m)*np.sum(np.abs(y-y_hat))\n",
        "  return result"
      ],
      "metadata": {
        "id": "mq12AT2BLQ8K"
      },
      "execution_count": 46,
      "outputs": []
    },
    {
      "cell_type": "code",
      "source": [
        "from sklearn.metrics import mean_absolute_error"
      ],
      "metadata": {
        "id": "_BqH-B4LXb_G"
      },
      "execution_count": 47,
      "outputs": []
    },
    {
      "cell_type": "markdown",
      "source": [
        "## Độ do MSLE"
      ],
      "metadata": {
        "id": "Xx2OKKasLV0i"
      }
    },
    {
      "cell_type": "code",
      "source": [
        "def msle(y,y_hat):\n",
        "  m=y.shape[0]\n",
        "  result=(1/m)*np.sum(np.square(np.log(1+y)-np.log(1+y_hat)))\n",
        "  return result"
      ],
      "metadata": {
        "id": "bguVlaKjLe4d"
      },
      "execution_count": 48,
      "outputs": []
    },
    {
      "cell_type": "code",
      "source": [
        "from sklearn.metrics import mean_squared_log_error"
      ],
      "metadata": {
        "id": "tOkMcp4aXjUm"
      },
      "execution_count": 49,
      "outputs": []
    },
    {
      "cell_type": "markdown",
      "source": [
        "## Độ do MAPE"
      ],
      "metadata": {
        "id": "Uv9u0N41LZeV"
      }
    },
    {
      "cell_type": "code",
      "source": [
        "def mape(y,y_hat):\n",
        "  m=y.shape[0]\n",
        "  e=np.finfo(np.float64).eps\n",
        "  result=(1/m)*np.sum(np.abs(y-y_hat)/np.maximum(e,np.abs(y)))\n",
        "  return result "
      ],
      "metadata": {
        "id": "TS2LhnYCLfUN"
      },
      "execution_count": 50,
      "outputs": []
    },
    {
      "cell_type": "code",
      "source": [
        "from sklearn.metrics import mean_absolute_percentage_error"
      ],
      "metadata": {
        "id": "aLiQaR44Xm4e"
      },
      "execution_count": 51,
      "outputs": []
    },
    {
      "cell_type": "markdown",
      "source": [
        "#Đánh giá mô hình"
      ],
      "metadata": {
        "id": "oXXOeX8kd8lp"
      }
    },
    {
      "cell_type": "code",
      "source": [
        "def main():\n",
        "    data=readData('/content/drive/MyDrive/Data/data/','ex1data2.txt')\n",
        "    X_scl, y_scl=scaling_minmax_norm(data)\n",
        "    X_train, X_test, y_train, y_test = split_data(X_scl,y_scl)\n",
        "    print('Huấn luyện mô hình trên tập dữ liệu train')\n",
        "    w=lr(X_train,y_train).reshape([X_train.shape[1],1])\n",
        "    print(\"Bộ trọng số:\\n \", w)\n",
        "    print()\n",
        "    print('Đánh giá mô hình trên tập dữ liệu test')\n",
        "    y_hat = np.dot(X_test, w)\n",
        "    print(\"MSE: \", mse(y_test, y_hat))\n",
        "    print('Sử dụng sklearn MSE: ', mean_squared_error(y_test, y_hat))\n",
        "    print('...........')\n",
        "    print(\"MAE: \", mae(y_test, y_hat))\n",
        "    print('Sử dụng sklearn MAE: ', mean_absolute_error(y_test, y_hat))\n",
        "if __name__ == '__main__':\n",
        "    main()"
      ],
      "metadata": {
        "colab": {
          "base_uri": "https://localhost:8080/"
        },
        "id": "Q_CBmv7pgUgq",
        "outputId": "ba2877b9-6c4d-41e0-f3d1-0a12d9cbd2c6"
      },
      "execution_count": 62,
      "outputs": [
        {
          "output_type": "stream",
          "name": "stdout",
          "text": [
            "Huấn luyện mô hình trên tập dữ liệu train\n",
            "Bộ trọng số:\n",
            "  [[ 0.        ]\n",
            " [ 1.14544792]\n",
            " [-0.10403018]]\n",
            "\n",
            "Đánh giá mô hình trên tập dữ liệu test\n",
            "MSE:  0.025244222898241495\n",
            "Sử dụng sklearn MSE:  0.0252442228982415\n",
            "...........\n",
            "MAE:  0.1228344909184523\n",
            "Sử dụng sklearn MAE:  0.1228344909184523\n"
          ]
        }
      ]
    }
  ]
}
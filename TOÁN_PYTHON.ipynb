{
  "nbformat": 4,
  "nbformat_minor": 0,
  "metadata": {
    "colab": {
      "provenance": [],
      "authorship_tag": "ABX9TyONGuDtweZiQareNRPPogur",
      "include_colab_link": true
    },
    "kernelspec": {
      "name": "python3",
      "display_name": "Python 3"
    },
    "language_info": {
      "name": "python"
    }
  },
  "cells": [
    {
      "cell_type": "markdown",
      "metadata": {
        "id": "view-in-github",
        "colab_type": "text"
      },
      "source": [
        "<a href=\"https://colab.research.google.com/github/nguyentantan141/MACHINE-LEARNING/blob/main/TO%C3%81N_PYTHON.ipynb\" target=\"_parent\"><img src=\"https://colab.research.google.com/assets/colab-badge.svg\" alt=\"Open In Colab\"/></a>"
      ]
    },
    {
      "cell_type": "code",
      "source": [
        "import numpy as np"
      ],
      "metadata": {
        "id": "kmefzBLqkYge"
      },
      "execution_count": 1,
      "outputs": []
    },
    {
      "cell_type": "markdown",
      "source": [
        "# Cộng 2 vector"
      ],
      "metadata": {
        "id": "ij9w-GtDkTKx"
      }
    },
    {
      "cell_type": "code",
      "execution_count": null,
      "metadata": {
        "colab": {
          "base_uri": "https://localhost:8080/"
        },
        "id": "8FU27dWkkGH0",
        "outputId": "5b80c12a-888f-4927-9ff1-e545de787782"
      },
      "outputs": [
        {
          "output_type": "stream",
          "name": "stdout",
          "text": [
            "[6 5 5 5]\n",
            "1\n",
            "(4,)\n"
          ]
        }
      ],
      "source": [
        "x=np.array([1,2,3,4])\n",
        "y=np.array([5,3,2,1])\n",
        "z=x+y\n",
        "print(z)\n",
        "print(z.ndim)\n",
        "print(z.shape)"
      ]
    },
    {
      "cell_type": "markdown",
      "source": [
        "# Nhân một đại lượng vo hướng với vector"
      ],
      "metadata": {
        "id": "EHL6DiP_lCiA"
      }
    },
    {
      "cell_type": "code",
      "source": [
        "x=np.array([1,2,3,4])\n",
        "a=15\n",
        "z=x+a\n",
        "print(z)\n",
        "print(z.ndim)\n",
        "print(z.shape)"
      ],
      "metadata": {
        "colab": {
          "base_uri": "https://localhost:8080/"
        },
        "id": "ncwRLfaQlCOS",
        "outputId": "019c7869-ac22-428b-cf0a-494aeec9a0d4"
      },
      "execution_count": null,
      "outputs": [
        {
          "output_type": "stream",
          "name": "stdout",
          "text": [
            "[16 17 18 19]\n",
            "1\n",
            "(4,)\n"
          ]
        }
      ]
    },
    {
      "cell_type": "markdown",
      "source": [
        "# Tích vô hướng 2 vector "
      ],
      "metadata": {
        "id": "8WrHz-hElQAg"
      }
    },
    {
      "cell_type": "code",
      "source": [
        "x=np.array([1,2,3,4])\n",
        "y=np.array([5,3,2,1])\n",
        "z=np.dot(x,y)\n",
        "print(z)\n",
        "print(z.ndim)\n",
        "print(z.shape)"
      ],
      "metadata": {
        "colab": {
          "base_uri": "https://localhost:8080/"
        },
        "id": "roZZiCdllPtg",
        "outputId": "0b8196f1-0031-432c-ccfe-04deed9e6bf4"
      },
      "execution_count": null,
      "outputs": [
        {
          "output_type": "stream",
          "name": "stdout",
          "text": [
            "21\n",
            "0\n",
            "()\n"
          ]
        }
      ]
    },
    {
      "cell_type": "markdown",
      "source": [
        "#Tích có hướng 2 vector có số chiều bé hơn 3"
      ],
      "metadata": {
        "id": "zFDVn5uulaGQ"
      }
    },
    {
      "cell_type": "code",
      "source": [
        "x=np.array([1,2,3])\n",
        "y=np.array([3,2,1])\n",
        "z=np.cross(x,y)\n",
        "print(z)\n",
        "print(z.ndim)\n",
        "print(z.shape)"
      ],
      "metadata": {
        "colab": {
          "base_uri": "https://localhost:8080/"
        },
        "id": "q3WBIoO9lb1n",
        "outputId": "e26aeaee-dae4-47c0-94cd-9e20b0d7e3e2"
      },
      "execution_count": null,
      "outputs": [
        {
          "output_type": "stream",
          "name": "stdout",
          "text": [
            "[-4  8 -4]\n",
            "1\n",
            "(3,)\n"
          ]
        }
      ]
    },
    {
      "cell_type": "markdown",
      "source": [
        "# Tích 2 vector với các vị trí tương ứng (dùng trong xử lí ảnh ...)"
      ],
      "metadata": {
        "id": "CsiuQov-m8OS"
      }
    },
    {
      "cell_type": "code",
      "source": [
        "x=np.array([1,2,3,4])\n",
        "y=np.array([5,3,2,1])\n",
        "z=x*y \n",
        "print(z)\n",
        "print(z.ndim)\n",
        "print(z.shape)"
      ],
      "metadata": {
        "colab": {
          "base_uri": "https://localhost:8080/"
        },
        "id": "-EHBe1hZm7ye",
        "outputId": "f6a5ab1f-5438-47cb-c2a3-700fecf4c470"
      },
      "execution_count": null,
      "outputs": [
        {
          "output_type": "stream",
          "name": "stdout",
          "text": [
            "[5 6 6 4]\n",
            "1\n",
            "(4,)\n"
          ]
        }
      ]
    },
    {
      "cell_type": "markdown",
      "source": [
        "# Cộng ma trận"
      ],
      "metadata": {
        "id": "j3mXJOslqWnv"
      }
    },
    {
      "cell_type": "code",
      "source": [
        "X = np.array([1,2,3,4,5,6]).reshape((2,3))\n",
        "Y = np.array([6,5,4,3,2,1]).reshape((2,3))\n",
        "Z = X + Y\n",
        "print(Z)\n",
        "print(Z.ndim)\n",
        "print(Z.shape)"
      ],
      "metadata": {
        "colab": {
          "base_uri": "https://localhost:8080/"
        },
        "id": "6VbLDw7wqWY4",
        "outputId": "846bb94d-cdf2-4394-9347-4f1cb1edea90"
      },
      "execution_count": 3,
      "outputs": [
        {
          "output_type": "stream",
          "name": "stdout",
          "text": [
            "[[7 7 7]\n",
            " [7 7 7]]\n",
            "2\n",
            "(2, 3)\n"
          ]
        }
      ]
    },
    {
      "cell_type": "markdown",
      "source": [
        "#Nhân ma trận với đại lượng vô hướng"
      ],
      "metadata": {
        "id": "wJ-QcFUeqkE_"
      }
    },
    {
      "cell_type": "code",
      "source": [
        "X = np.array([1,2,3,4,5,6]).reshape((2,3))\n",
        "a = 2\n",
        "Z = a*X\n",
        "print(Z)\n",
        "print(Z.ndim, '; ', Z.shape)"
      ],
      "metadata": {
        "colab": {
          "base_uri": "https://localhost:8080/"
        },
        "id": "65SgLwrlqj8X",
        "outputId": "da6afc26-3961-4201-bb56-b603e0741b06"
      },
      "execution_count": 4,
      "outputs": [
        {
          "output_type": "stream",
          "name": "stdout",
          "text": [
            "[[ 2  4  6]\n",
            " [ 8 10 12]]\n",
            "2 ;  (2, 3)\n"
          ]
        }
      ]
    },
    {
      "cell_type": "markdown",
      "source": [
        "#Chuyển vị ma trận"
      ],
      "metadata": {
        "id": "8Ae5mDsrqv4j"
      }
    },
    {
      "cell_type": "code",
      "source": [
        "X = np.array([1,2,3,4,5,6]).reshape((2,3))\n",
        "Z = X.T\n",
        "print(Z)\n",
        "print(Z.ndim, '; ', Z.shape)"
      ],
      "metadata": {
        "colab": {
          "base_uri": "https://localhost:8080/"
        },
        "id": "flrk33juqvw_",
        "outputId": "c7739f49-3dc4-4319-b9f9-49ece51ffd04"
      },
      "execution_count": 5,
      "outputs": [
        {
          "output_type": "stream",
          "name": "stdout",
          "text": [
            "[[1 4]\n",
            " [2 5]\n",
            " [3 6]]\n",
            "2 ;  (3, 2)\n"
          ]
        }
      ]
    },
    {
      "cell_type": "markdown",
      "source": [
        "#Nhân hai ma trận\n"
      ],
      "metadata": {
        "id": "6ALL3SeBq6Fb"
      }
    },
    {
      "cell_type": "code",
      "source": [
        "X = np.array([1,2,3,4,5,6]).reshape((2,3))\n",
        "Y = np.array([6,5,4,3,2,1]).reshape((3,2))\n",
        "Z = np.dot(X,Y)\n",
        "print(Z)\n",
        "print(Z.ndim, '; ', Z.shape)"
      ],
      "metadata": {
        "colab": {
          "base_uri": "https://localhost:8080/"
        },
        "id": "gneqGbGEq8j4",
        "outputId": "7ca217b3-abf7-4063-e072-2f31e613dbe5"
      },
      "execution_count": 6,
      "outputs": [
        {
          "output_type": "stream",
          "name": "stdout",
          "text": [
            "[[20 14]\n",
            " [56 41]]\n",
            "2 ;  (2, 2)\n"
          ]
        }
      ]
    },
    {
      "cell_type": "markdown",
      "source": [
        "# Nhân ma trận với các vị trí tương ứng"
      ],
      "metadata": {
        "id": "oHKKHXpMrAXk"
      }
    },
    {
      "cell_type": "code",
      "source": [
        "X = np.array([1,2,3,4,5,6]).reshape((2,3))\n",
        "Y = np.array([6,5,4,3,2,1]).reshape((2,3))\n",
        "Z = np.multiply(X,Y) #hoặc Z = X*Y\n",
        "print(Z)\n",
        "print(Z.ndim, '; ', Z.shape)"
      ],
      "metadata": {
        "colab": {
          "base_uri": "https://localhost:8080/"
        },
        "id": "hW6KZkqHrDnT",
        "outputId": "cc992962-d948-4222-e22f-9f5f9db8378f"
      },
      "execution_count": 7,
      "outputs": [
        {
          "output_type": "stream",
          "name": "stdout",
          "text": [
            "[[ 6 10 12]\n",
            " [12 10  6]]\n",
            "2 ;  (2, 3)\n"
          ]
        }
      ]
    },
    {
      "cell_type": "markdown",
      "source": [
        "#Lấy một vector hàng từ ma trận"
      ],
      "metadata": {
        "id": "AJMH8u32rQGE"
      }
    },
    {
      "cell_type": "code",
      "source": [
        "X = np.array([1,2,3,4,5,6]).reshape((2,3))\n",
        "m = X.shape[0]\n",
        "n = X.shape[1]\n",
        "print('m = ', m, '; n = ', n)\n",
        "x = X[0, :]\n",
        "print(x)\n",
        "print(x.ndim, '; ', x.shape)\n",
        "x = x.reshape((1,n))\n",
        "print(x)\n",
        "print(x.ndim, '; ', x.shape)"
      ],
      "metadata": {
        "colab": {
          "base_uri": "https://localhost:8080/"
        },
        "id": "3SuCB-t2rP6Q",
        "outputId": "af912229-0efc-4485-c3a1-56fa02ac9db7"
      },
      "execution_count": 8,
      "outputs": [
        {
          "output_type": "stream",
          "name": "stdout",
          "text": [
            "m =  2 ; n =  3\n",
            "[1 2 3]\n",
            "1 ;  (3,)\n",
            "[[1 2 3]]\n",
            "2 ;  (1, 3)\n"
          ]
        }
      ]
    },
    {
      "cell_type": "markdown",
      "source": [
        "#Lấy một vector cột từ ma trận"
      ],
      "metadata": {
        "id": "QPyhABJorsR5"
      }
    },
    {
      "cell_type": "code",
      "source": [
        "X = np.array([1,2,3,4,5,6]).reshape((2,3))\n",
        "m = X.shape[0]\n",
        "n = X.shape[1]\n",
        "print('m = ', m, '; n = ', n)\n",
        "x = X[:,1]\n",
        "print(x)\n",
        "print(x.ndim, '; ', x.shape)\n",
        "x = x.reshape((m,1))\n",
        "print(x)\n",
        "print(x.ndim, '; ', x.shape)"
      ],
      "metadata": {
        "colab": {
          "base_uri": "https://localhost:8080/"
        },
        "id": "O4ZEfD7lrvn7",
        "outputId": "4ef35def-a7de-4cd9-df0f-8a4d183e1532"
      },
      "execution_count": 12,
      "outputs": [
        {
          "output_type": "stream",
          "name": "stdout",
          "text": [
            "m =  2 ; n =  3\n",
            "[2 5]\n",
            "1 ;  (2,)\n",
            "[[2]\n",
            " [5]]\n",
            "2 ;  (2, 1)\n"
          ]
        }
      ]
    },
    {
      "cell_type": "markdown",
      "source": [
        "#Thêm một vector cột vào ma trận"
      ],
      "metadata": {
        "id": "xWmWqRY3r2RD"
      }
    },
    {
      "cell_type": "code",
      "source": [
        "X =np.array([1,2,3,4,5,6,7,8,9,10,11,12]).reshape((4,3))\n",
        "x = np.array([1,1,1,1]).reshape((4,1))\n",
        "X = np.column_stack([x,X])\n",
        "print(X)\n",
        "print(X.ndim, '; ', X.shape)"
      ],
      "metadata": {
        "colab": {
          "base_uri": "https://localhost:8080/"
        },
        "id": "a4ipET5ir1xk",
        "outputId": "74240aaf-d0dc-4733-9d60-c7382ab23425"
      },
      "execution_count": 13,
      "outputs": [
        {
          "output_type": "stream",
          "name": "stdout",
          "text": [
            "[[ 1  1  2  3]\n",
            " [ 1  4  5  6]\n",
            " [ 1  7  8  9]\n",
            " [ 1 10 11 12]]\n",
            "2 ;  (4, 4)\n"
          ]
        }
      ]
    },
    {
      "cell_type": "markdown",
      "source": [
        "#Tách lấy X,y (Dữ liệu, nhãn)"
      ],
      "metadata": {
        "id": "HBk1Aaotr8PU"
      }
    },
    {
      "cell_type": "code",
      "source": [
        "data = np.array([[10,22,13,1],\n",
        "[9,6,5,0],\n",
        "[8,12,4,1],\n",
        "[6,5,7,0]])\n",
        "X = data[:,:-1]\n",
        "y = data[:,-1].reshape((data.shape[0], 1))\n",
        "print(X)\n",
        "print(X.ndim, '; ', X.shape)\n",
        "print(y)\n",
        "print(y.ndim, '; ', y.shape)"
      ],
      "metadata": {
        "colab": {
          "base_uri": "https://localhost:8080/"
        },
        "id": "IDs2z6GksBuL",
        "outputId": "fd004875-1724-42de-e5da-a39d261c49a7"
      },
      "execution_count": 14,
      "outputs": [
        {
          "output_type": "stream",
          "name": "stdout",
          "text": [
            "[[10 22 13]\n",
            " [ 9  6  5]\n",
            " [ 8 12  4]\n",
            " [ 6  5  7]]\n",
            "2 ;  (4, 3)\n",
            "[[1]\n",
            " [0]\n",
            " [1]\n",
            " [0]]\n",
            "2 ;  (4, 1)\n"
          ]
        }
      ]
    },
    {
      "cell_type": "markdown",
      "source": [
        "#Tạo ngẫu nhiên tensor"
      ],
      "metadata": {
        "id": "ZhkBDd_Rsbt-"
      }
    },
    {
      "cell_type": "code",
      "source": [
        "import numpy as np\n",
        "m=2\n",
        "n=2\n",
        "k=3\n",
        "T = np.random.randint(low=-5,high=5,size=m*n*k).reshape(k,m,n)\n",
        "print(T)"
      ],
      "metadata": {
        "colab": {
          "base_uri": "https://localhost:8080/"
        },
        "id": "ZL41B47GscAT",
        "outputId": "f95ca686-f839-476a-b437-0ebc3b91b76c"
      },
      "execution_count": 15,
      "outputs": [
        {
          "output_type": "stream",
          "name": "stdout",
          "text": [
            "[[[ 1 -5]\n",
            "  [-3  4]]\n",
            "\n",
            " [[-2  1]\n",
            "  [ 2 -1]]\n",
            "\n",
            " [[-5  2]\n",
            "  [-3  4]]]\n"
          ]
        }
      ]
    },
    {
      "cell_type": "markdown",
      "source": [],
      "metadata": {
        "id": "6XM5qpASsnsI"
      }
    },
    {
      "cell_type": "code",
      "source": [
        "import numpy as np\n",
        "m=2\n",
        "n=2\n",
        "k=3\n",
        "t1 = np.random.randint(low=-5,high=5,size=m*n*k).reshape(k,m,n)\n",
        "t2 = np.random.randint(low=-5,high=5,size=m*n*k).reshape(k,m,n)\n",
        "t3 = np.random.randint(low=-5,high=5,size=m*n*k).reshape(k,m,n)\n",
        "t4 = np.random.randint(low=-5,high=5,size=m*n*k).reshape(k,m,n)\n",
        "T = np.stack((t1, t2, t3, t4), axis=-1)\n",
        "print('T',T)\n",
        "print('T.shape',T.shape)\n",
        "x = T[:,:,:,1]\n",
        "print('x',x)\n",
        "print('x.shape',x.shape)\n",
        "m1 = x[0,:,:]\n",
        "print('m1',m1)\n",
        "print(m1.shape)"
      ],
      "metadata": {
        "colab": {
          "base_uri": "https://localhost:8080/"
        },
        "id": "szbMm6HCsoCT",
        "outputId": "0bf49aec-1d69-413e-943d-88f453d02646"
      },
      "execution_count": 24,
      "outputs": [
        {
          "output_type": "stream",
          "name": "stdout",
          "text": [
            "T [[[[-3  4 -5  3]\n",
            "   [ 0 -4  4 -3]]\n",
            "\n",
            "  [[-4 -3 -2  3]\n",
            "   [ 2 -5 -3  0]]]\n",
            "\n",
            "\n",
            " [[[-1  3 -1  1]\n",
            "   [ 2  3  1  2]]\n",
            "\n",
            "  [[-4 -4  1 -5]\n",
            "   [ 4 -4 -2 -2]]]\n",
            "\n",
            "\n",
            " [[[ 3 -4  4  1]\n",
            "   [ 1 -4  2 -3]]\n",
            "\n",
            "  [[ 4 -3 -3 -4]\n",
            "   [ 2  1 -4 -2]]]]\n",
            "T.shape (3, 2, 2, 4)\n",
            "x [[[ 4 -4]\n",
            "  [-3 -5]]\n",
            "\n",
            " [[ 3  3]\n",
            "  [-4 -4]]\n",
            "\n",
            " [[-4 -4]\n",
            "  [-3  1]]]\n",
            "x.shape (3, 2, 2)\n",
            "m1 [[ 4 -4]\n",
            " [-3 -5]]\n",
            "(2, 2)\n"
          ]
        }
      ]
    }
  ]
}